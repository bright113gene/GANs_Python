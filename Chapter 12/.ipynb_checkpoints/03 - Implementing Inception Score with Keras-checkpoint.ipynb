{
 "cells": [
  {
   "cell_type": "code",
   "execution_count": null,
   "metadata": {},
   "outputs": [],
   "source": [
    "from PIL import Image\n",
    "import numpy as np\n",
    "from cv2 import resize\n",
    "from keras.applications.inception_v3 import InceptionV3\n",
    "from keras.applications.inception_v3 import preprocess_input\n",
    "from keras.datasets import cifar10"
   ]
  },
  {
   "cell_type": "code",
   "execution_count": null,
   "metadata": {},
   "outputs": [],
   "source": [
    "def scale_images(images, new_shape):\n",
    "    images_list = list()\n",
    "    for image in images:\n",
    "        new_image = resize(image, new_shape)\n",
    "        images_list.append(new_image)\n",
    "    return np.asarray(images_list)"
   ]
  },
  {
   "cell_type": "code",
   "execution_count": null,
   "metadata": {},
   "outputs": [],
   "source": [
    "def calculate_inception_score(images, n_split=10, eps=1E-16):\n",
    "    model = InceptionV3()\n",
    "    scores = list()\n",
    "    n_part = np.floor(images.shape[0] / n_split)\n",
    "    for i in range(n_split):\n",
    "        ix_start, ix_end = i * n_part, (i+1) * n_part\n",
    "        subset = images[ix_start:ix_end]\n",
    "        subset = subset.astype('float32')\n",
    "        subset = scale_images(subset, (299,299,3))\n",
    "        subset = preprocess_input(subset)\n",
    "        p_yx = model.predict(subset)\n",
    "        p_y = np.expand_dims(p_yx.mean(axis=0), 0)\n",
    "        kl_d = p_yx * (np.log(p_yx + eps) - np.log(p_y + eps))\n",
    "        sum_kl_d = kl_d.sum(axis=1)\n",
    "        avg_kl_d = np.mean(sum_kl_d)\n",
    "        is_score = np.exp(avg_kl_d)\n",
    "        scores.append(is_score)\n",
    "        \n",
    "    is_avg, is_std = np.mean(scores), np.std(scores)\n",
    "    return is_avg, is_std\n",
    "\n",
    "(images, _), (_, _) = cifar10.load_data()\n",
    "np.random.shuffle(images)\n",
    "print('loaded', images.shape)\n",
    "is_avg, is_std = calculate_inception_score(images)\n",
    "print('score', is_avg, is_std)"
   ]
  }
 ],
 "metadata": {
  "kernelspec": {
   "display_name": "Python 3",
   "language": "python",
   "name": "python3"
  },
  "language_info": {
   "codemirror_mode": {
    "name": "ipython",
    "version": 3
   },
   "file_extension": ".py",
   "mimetype": "text/x-python",
   "name": "python",
   "nbconvert_exporter": "python",
   "pygments_lexer": "ipython3",
   "version": "3.7.0"
  }
 },
 "nbformat": 4,
 "nbformat_minor": 4
}
