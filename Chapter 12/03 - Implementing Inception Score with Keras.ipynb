{
  "nbformat": 4,
  "nbformat_minor": 0,
  "metadata": {
    "kernelspec": {
      "display_name": "Python 3",
      "language": "python",
      "name": "python3"
    },
    "language_info": {
      "codemirror_mode": {
        "name": "ipython",
        "version": 3
      },
      "file_extension": ".py",
      "mimetype": "text/x-python",
      "name": "python",
      "nbconvert_exporter": "python",
      "pygments_lexer": "ipython3",
      "version": "3.7.0"
    },
    "colab": {
      "name": "03 - Implementing Inception Score with Keras.ipynb",
      "provenance": []
    }
  },
  "cells": [
    {
      "cell_type": "code",
      "metadata": {
        "id": "-YFuRbYwOXoO",
        "colab_type": "code",
        "colab": {
          "base_uri": "https://localhost:8080/",
          "height": 34
        },
        "outputId": "400bd5db-20cd-4f38-9268-2d0c3d81cbf5"
      },
      "source": [
        "import numpy as np\n",
        "import cv2\n",
        "import keras\n",
        "from keras.applications.inception_v3 import InceptionV3, preprocess_input"
      ],
      "execution_count": 1,
      "outputs": [
        {
          "output_type": "stream",
          "text": [
            "Using TensorFlow backend.\n"
          ],
          "name": "stderr"
        }
      ]
    },
    {
      "cell_type": "code",
      "metadata": {
        "id": "A5g5UqQEOXoT",
        "colab_type": "code",
        "colab": {}
      },
      "source": [
        "def scale_images(images, new_shape):\n",
        "    images_list = list()\n",
        "    for image in images:\n",
        "        new_image = cv2.resize(image, new_shape)\n",
        "        images_list.append(new_image)\n",
        "    return np.asarray(images_list)"
      ],
      "execution_count": 2,
      "outputs": []
    },
    {
      "cell_type": "code",
      "metadata": {
        "id": "fjTdTNLYOXoY",
        "colab_type": "code",
        "colab": {}
      },
      "source": [
        "def calculate_inception_score(images, n_split=10, eps=1E-16):\n",
        "    model = InceptionV3()\n",
        "    scores = list()\n",
        "    n_part = np.floor(images.shape[0] / n_split)\n",
        "    for i in range(n_split):\n",
        "        print(f\"Run: {i+1}\")\n",
        "        ix_start, ix_end = int(i * n_part), int((i+1) * n_part)\n",
        "        subset = images[ix_start:ix_end]\n",
        "        subset = subset.astype('float32')\n",
        "        subset = scale_images(subset, (299,299))\n",
        "        subset = preprocess_input(subset)\n",
        "        p_yx = model.predict(subset)\n",
        "        p_y = np.expand_dims(p_yx.mean(axis=0), 0)\n",
        "        kl_d = p_yx * (np.log(p_yx + eps) - np.log(p_y + eps))\n",
        "        sum_kl_d = kl_d.sum(axis=1)\n",
        "        avg_kl_d = np.mean(sum_kl_d)\n",
        "        is_score = np.exp(avg_kl_d)\n",
        "        scores.append(is_score)\n",
        "        \n",
        "    is_avg, is_std = np.mean(scores), np.std(scores)\n",
        "    return is_avg, is_std"
      ],
      "execution_count": 3,
      "outputs": []
    },
    {
      "cell_type": "code",
      "metadata": {
        "id": "PlEGk30cOmN8",
        "colab_type": "code",
        "colab": {
          "base_uri": "https://localhost:8080/",
          "height": 221
        },
        "outputId": "eba80dba-8bc7-47de-e130-b006228c2e9a"
      },
      "source": [
        "(images, _), (_, _) = keras.datasets.cifar10.load_data()\n",
        "np.random.shuffle(images)\n",
        "print('loaded', images.shape)\n",
        "is_avg, is_std = calculate_inception_score(images)\n",
        "print('score', is_avg, is_std)"
      ],
      "execution_count": 4,
      "outputs": [
        {
          "output_type": "stream",
          "text": [
            "loaded (50000, 32, 32, 3)\n",
            "Run: 1\n",
            "Run: 2\n",
            "Run: 3\n",
            "Run: 4\n",
            "Run: 5\n",
            "Run: 6\n",
            "Run: 7\n",
            "Run: 8\n",
            "Run: 9\n",
            "Run: 10\n",
            "score 10.792273 0.19545591\n"
          ],
          "name": "stdout"
        }
      ]
    }
  ]
}