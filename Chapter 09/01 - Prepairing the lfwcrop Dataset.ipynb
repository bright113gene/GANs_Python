{
  "nbformat": 4,
  "nbformat_minor": 0,
  "metadata": {
    "colab": {
      "name": "01 - Prepairing the CelebA dataset.ipynb",
      "provenance": [],
      "collapsed_sections": []
    },
    "kernelspec": {
      "name": "python3",
      "display_name": "Python 3"
    },
    "accelerator": "GPU"
  },
  "cells": [
    {
      "cell_type": "code",
      "metadata": {
        "id": "2D4jSVPaeKUt",
        "colab_type": "code",
        "colab": {
          "base_uri": "https://localhost:8080/",
          "height": 204
        },
        "outputId": "f885ddf3-2e6d-407a-e20b-540c06639214"
      },
      "source": [
        "!wget http://conradsanderson.id.au/lfwcrop/lfwcrop_color.zip"
      ],
      "execution_count": 1,
      "outputs": [
        {
          "output_type": "stream",
          "text": [
            "--2020-06-17 19:13:23--  http://conradsanderson.id.au/lfwcrop/lfwcrop_color.zip\n",
            "Resolving conradsanderson.id.au (conradsanderson.id.au)... 103.18.109.184, 2407:e700:2:13::e0\n",
            "Connecting to conradsanderson.id.au (conradsanderson.id.au)|103.18.109.184|:80... connected.\n",
            "HTTP request sent, awaiting response... 200 OK\n",
            "Length: 152404390 (145M) [application/zip]\n",
            "Saving to: ‘lfwcrop_color.zip’\n",
            "\n",
            "lfwcrop_color.zip   100%[===================>] 145.34M  29.6MB/s    in 5.5s    \n",
            "\n",
            "2020-06-17 19:13:29 (26.5 MB/s) - ‘lfwcrop_color.zip’ saved [152404390/152404390]\n",
            "\n"
          ],
          "name": "stdout"
        }
      ]
    },
    {
      "cell_type": "code",
      "metadata": {
        "id": "OT9SAPoAeNBm",
        "colab_type": "code",
        "colab": {}
      },
      "source": [
        "import zipfile\n",
        "import os\n",
        "\n",
        "with zipfile.ZipFile(os.getcwd() + '/lfwcrop_color.zip', 'r') as zip_ref:\n",
        "    zip_ref.extractall(os.getcwd()+'/faces')"
      ],
      "execution_count": 2,
      "outputs": []
    },
    {
      "cell_type": "code",
      "metadata": {
        "id": "H7dUSGlefa5K",
        "colab_type": "code",
        "colab": {}
      },
      "source": [
        "from os import listdir\n",
        "from numpy import asarray\n",
        "import numpy as np\n",
        "from PIL import Image\n",
        "from matplotlib import pyplot"
      ],
      "execution_count": 4,
      "outputs": []
    },
    {
      "cell_type": "code",
      "metadata": {
        "id": "DMw8JkjVeody",
        "colab_type": "code",
        "colab": {}
      },
      "source": [
        "def load_image(filename):\n",
        "  image = Image.open(filename)\n",
        "  image = image.convert('RGB')\n",
        "  pixels = asarray(image)\n",
        "  return pixels"
      ],
      "execution_count": 5,
      "outputs": []
    },
    {
      "cell_type": "code",
      "metadata": {
        "id": "Bg3HD02Ue2Or",
        "colab_type": "code",
        "colab": {}
      },
      "source": [
        "def load_faces(directory):\n",
        "  faces = list()\n",
        "  for filename in listdir(directory):\n",
        "    pixels = load_image(directory + filename)    \n",
        "    faces.append(pixels)\n",
        "  return asarray(faces)"
      ],
      "execution_count": 6,
      "outputs": []
    },
    {
      "cell_type": "code",
      "metadata": {
        "id": "u645bgx5e7Mc",
        "colab_type": "code",
        "colab": {}
      },
      "source": [
        "def plot_faces(faces, n):\n",
        "  for i in range(n * n):\n",
        "    pyplot.subplot(n, n, 1 + i)\n",
        "    pyplot.axis('off')\n",
        "    pyplot.imshow(faces[i])\n",
        "  pyplot.show()"
      ],
      "execution_count": 7,
      "outputs": []
    },
    {
      "cell_type": "code",
      "metadata": {
        "id": "mahErNM5fBSa",
        "colab_type": "code",
        "colab": {
          "base_uri": "https://localhost:8080/",
          "height": 34
        },
        "outputId": "651181d0-5ba1-4ef2-8b1b-ffb5cbc7c612"
      },
      "source": [
        "directory = './faces/lfwcrop_color/faces/'\n",
        "faces = load_faces(directory)\n",
        "print('Loaded: ', faces.shape)"
      ],
      "execution_count": 8,
      "outputs": [
        {
          "output_type": "stream",
          "text": [
            "Loaded:  (13233, 64, 64, 3)\n"
          ],
          "name": "stdout"
        }
      ]
    },
    {
      "cell_type": "code",
      "metadata": {
        "id": "rwdeiSwdhBMu",
        "colab_type": "code",
        "colab": {}
      },
      "source": [
        "np.savez_compressed(os.getcwd() + '/drive/My Drive/faces.npz',faces)"
      ],
      "execution_count": 9,
      "outputs": []
    }
  ]
}