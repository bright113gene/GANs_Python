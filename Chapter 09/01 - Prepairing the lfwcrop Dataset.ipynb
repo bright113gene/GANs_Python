{
 "cells": [
  {
   "cell_type": "code",
   "execution_count": 1,
   "metadata": {
    "colab": {
     "base_uri": "https://localhost:8080/",
     "height": 204
    },
    "colab_type": "code",
    "id": "2D4jSVPaeKUt",
    "outputId": "f885ddf3-2e6d-407a-e20b-540c06639214"
   },
   "outputs": [
    {
     "name": "stdout",
     "output_type": "stream",
     "text": [
      "--2020-06-17 19:13:23--  http://conradsanderson.id.au/lfwcrop/lfwcrop_color.zip\n",
      "Resolving conradsanderson.id.au (conradsanderson.id.au)... 103.18.109.184, 2407:e700:2:13::e0\n",
      "Connecting to conradsanderson.id.au (conradsanderson.id.au)|103.18.109.184|:80... connected.\n",
      "HTTP request sent, awaiting response... 200 OK\n",
      "Length: 152404390 (145M) [application/zip]\n",
      "Saving to: ‘lfwcrop_color.zip’\n",
      "\n",
      "lfwcrop_color.zip   100%[===================>] 145.34M  29.6MB/s    in 5.5s    \n",
      "\n",
      "2020-06-17 19:13:29 (26.5 MB/s) - ‘lfwcrop_color.zip’ saved [152404390/152404390]\n",
      "\n"
     ]
    }
   ],
   "source": [
    "!wget http://conradsanderson.id.au/lfwcrop/lfwcrop_color.zip"
   ]
  },
  {
   "cell_type": "code",
   "execution_count": 2,
   "metadata": {
    "colab": {},
    "colab_type": "code",
    "id": "OT9SAPoAeNBm"
   },
   "outputs": [],
   "source": [
    "import zipfile\n",
    "import os\n",
    "\n",
    "with zipfile.ZipFile(os.getcwd() + '/lfwcrop_color.zip', 'r') as zip_ref:\n",
    "    zip_ref.extractall(os.getcwd()+'/faces')"
   ]
  },
  {
   "cell_type": "code",
   "execution_count": 4,
   "metadata": {
    "colab": {},
    "colab_type": "code",
    "id": "H7dUSGlefa5K"
   },
   "outputs": [],
   "source": [
    "from os import listdir\n",
    "from numpy import asarray\n",
    "import numpy as np\n",
    "from PIL import Image\n",
    "from matplotlib import pyplot"
   ]
  },
  {
   "cell_type": "code",
   "execution_count": 5,
   "metadata": {
    "colab": {},
    "colab_type": "code",
    "id": "DMw8JkjVeody"
   },
   "outputs": [],
   "source": [
    "def load_image(filename):\n",
    "  image = Image.open(filename)\n",
    "  image = image.convert('RGB')\n",
    "  pixels = asarray(image)\n",
    "  return pixels"
   ]
  },
  {
   "cell_type": "code",
   "execution_count": 6,
   "metadata": {
    "colab": {},
    "colab_type": "code",
    "id": "Bg3HD02Ue2Or"
   },
   "outputs": [],
   "source": [
    "def load_faces(directory):\n",
    "  faces = list()\n",
    "  for filename in listdir(directory):\n",
    "    pixels = load_image(directory + filename)    \n",
    "    faces.append(pixels)\n",
    "  return asarray(faces)"
   ]
  },
  {
   "cell_type": "code",
   "execution_count": 7,
   "metadata": {
    "colab": {},
    "colab_type": "code",
    "id": "u645bgx5e7Mc"
   },
   "outputs": [],
   "source": [
    "def plot_faces(faces, n):\n",
    "  for i in range(n * n):\n",
    "    pyplot.subplot(n, n, 1 + i)\n",
    "    pyplot.axis('off')\n",
    "    pyplot.imshow(faces[i])\n",
    "  pyplot.show()"
   ]
  },
  {
   "cell_type": "code",
   "execution_count": 8,
   "metadata": {
    "colab": {
     "base_uri": "https://localhost:8080/",
     "height": 34
    },
    "colab_type": "code",
    "id": "mahErNM5fBSa",
    "outputId": "651181d0-5ba1-4ef2-8b1b-ffb5cbc7c612"
   },
   "outputs": [
    {
     "name": "stdout",
     "output_type": "stream",
     "text": [
      "Loaded:  (13233, 64, 64, 3)\n"
     ]
    }
   ],
   "source": [
    "directory = './faces/lfwcrop_color/faces/'\n",
    "faces = load_faces(directory)\n",
    "print('Loaded: ', faces.shape)"
   ]
  },
  {
   "cell_type": "code",
   "execution_count": 9,
   "metadata": {
    "colab": {},
    "colab_type": "code",
    "id": "rwdeiSwdhBMu"
   },
   "outputs": [],
   "source": [
    "np.savez_compressed(os.getcwd() + '/drive/My Drive/faces.npz',faces)"
   ]
  }
 ],
 "metadata": {
  "accelerator": "GPU",
  "colab": {
   "collapsed_sections": [],
   "name": "01 - Prepairing the CelebA dataset.ipynb",
   "provenance": []
  },
  "kernelspec": {
   "display_name": "Python 3",
   "language": "python",
   "name": "python3"
  },
  "language_info": {
   "codemirror_mode": {
    "name": "ipython",
    "version": 3
   },
   "file_extension": ".py",
   "mimetype": "text/x-python",
   "name": "python",
   "nbconvert_exporter": "python",
   "pygments_lexer": "ipython3",
   "version": "3.7.0"
  }
 },
 "nbformat": 4,
 "nbformat_minor": 1
}
