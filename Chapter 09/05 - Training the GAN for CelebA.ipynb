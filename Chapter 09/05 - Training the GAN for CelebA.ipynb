{
  "nbformat": 4,
  "nbformat_minor": 0,
  "metadata": {
    "kernelspec": {
      "display_name": "Python 3",
      "language": "python",
      "name": "python3"
    },
    "language_info": {
      "codemirror_mode": {
        "name": "ipython",
        "version": 3
      },
      "file_extension": ".py",
      "mimetype": "text/x-python",
      "name": "python",
      "nbconvert_exporter": "python",
      "pygments_lexer": "ipython3",
      "version": "3.7.0"
    },
    "colab": {
      "name": "05 - Training the GAN for CelebA.ipynb",
      "provenance": [],
      "toc_visible": true
    },
    "accelerator": "GPU"
  },
  "cells": [
    {
      "cell_type": "markdown",
      "metadata": {
        "id": "P_yjX0AkCiuF",
        "colab_type": "text"
      },
      "source": [
        "## Loading the data"
      ]
    },
    {
      "cell_type": "code",
      "metadata": {
        "id": "JPauqzIwBXam",
        "colab_type": "code",
        "colab": {
          "base_uri": "https://localhost:8080/",
          "height": 54
        },
        "outputId": "1245c1a5-6b89-4605-f47c-d4314ad2e722"
      },
      "source": [
        "\"\"\"\n",
        "!wget https://s3-us-west-1.amazonaws.com/udacity-dlnfd/datasets/celeba.zip\n",
        "import zipfile, os\n",
        "with zipfile.ZipFile(os.getcwd() + '/celeba.zip', 'r') as zip_ref:\n",
        "  zip_ref.extractall(os.getcwd()+'/data_faces')\n",
        "\"\"\""
      ],
      "execution_count": 1,
      "outputs": [
        {
          "output_type": "execute_result",
          "data": {
            "text/plain": [
              "\"\\n!wget https://s3-us-west-1.amazonaws.com/udacity-dlnfd/datasets/celeba.zip\\nimport zipfile, os\\nwith zipfile.ZipFile(os.getcwd() + '/celeba.zip', 'r') as zip_ref:\\n  zip_ref.extractall(os.getcwd()+'/data_faces')\\n\""
            ]
          },
          "metadata": {
            "tags": []
          },
          "execution_count": 1
        }
      ]
    },
    {
      "cell_type": "markdown",
      "metadata": {
        "id": "YQuAFD8HBiOm",
        "colab_type": "text"
      },
      "source": [
        "# Importing the libraries"
      ]
    },
    {
      "cell_type": "code",
      "metadata": {
        "id": "9qGawzGj_KWj",
        "colab_type": "code",
        "colab": {
          "base_uri": "https://localhost:8080/",
          "height": 34
        },
        "outputId": "04faaf15-3876-4dc5-9e50-c426b0d217e1"
      },
      "source": [
        "import keras\n",
        "import numpy as np\n",
        "import matplotlib.pyplot as plt\n",
        "import os"
      ],
      "execution_count": 2,
      "outputs": [
        {
          "output_type": "stream",
          "text": [
            "Using TensorFlow backend.\n"
          ],
          "name": "stderr"
        }
      ]
    },
    {
      "cell_type": "markdown",
      "metadata": {
        "id": "3T50N2FHBkqW",
        "colab_type": "text"
      },
      "source": [
        "## Defining the GAN"
      ]
    },
    {
      "cell_type": "code",
      "metadata": {
        "id": "yGaJfOYb_Nh_",
        "colab_type": "code",
        "colab": {}
      },
      "source": [
        "def define_GAN(g_model, d_model):\n",
        "    d_model.trainable = False\n",
        "    model = keras.models.Sequential()\n",
        "    model.add(g_model)\n",
        "    model.add(d_model)\n",
        "    opt = keras.optimizers.adam(learning_rate= 0.0002,\n",
        "                                beta_1= 0.5)\n",
        "    model.compile(loss= 'binary_crossentropy', optimizer= opt)\n",
        "    return model"
      ],
      "execution_count": 3,
      "outputs": []
    },
    {
      "cell_type": "markdown",
      "metadata": {
        "id": "RnzBD8mpBmtH",
        "colab_type": "text"
      },
      "source": [
        "## Defining the Discriminator"
      ]
    },
    {
      "cell_type": "code",
      "metadata": {
        "id": "rQyGjaNi_SkC",
        "colab_type": "code",
        "colab": {}
      },
      "source": [
        "def define_discriminator(input_shape= (96,80,3)):\n",
        "    model = keras.models.Sequential()\n",
        "    \n",
        "    model.add(keras.layers.Conv2D(filters= 128,\n",
        "                                  kernel_size= (3,3),\n",
        "                                  padding= 'same',\n",
        "                                  input_shape= input_shape))\n",
        "    model.add(keras.layers.LeakyReLU(0.2))\n",
        "    model.add(keras.layers.Dropout(0.4))\n",
        "\n",
        "    # 96 * 80 * 3\n",
        "    model.add(keras.layers.Conv2D(filters= 128,\n",
        "                                  kernel_size= (3,3),\n",
        "                                  strides= (2,2),\n",
        "                                  padding= 'same'))\n",
        "    model.add(keras.layers.LeakyReLU(0.2))\n",
        "    model.add(keras.layers.Dropout(0.4))\n",
        "    \n",
        "    # 48 * 40 * 3\n",
        "    model.add(keras.layers.Conv2D(filters= 128,\n",
        "                                  kernel_size= (4,4),\n",
        "                                  strides= (2,2),\n",
        "                                  padding= 'same'))\n",
        "    model.add(keras.layers.LeakyReLU(0.2))\n",
        "    model.add(keras.layers.Dropout(0.4))\n",
        "    \n",
        "    # 24 * 20 * 3\n",
        "    model.add(keras.layers.Conv2D(filters= 128,\n",
        "                                  kernel_size= (4,4),\n",
        "                                  strides= (2,2),\n",
        "                                  padding= 'same'))\n",
        "    model.add(keras.layers.LeakyReLU(0.2))\n",
        "    model.add(keras.layers.Dropout(0.4))\n",
        "    \n",
        "    # 12 * 10 * 3\n",
        "\n",
        "    model.add(keras.layers.Flatten())\n",
        "    model.add(keras.layers.Dropout(0.4))\n",
        "    model.add(keras.layers.Dense(units= 1,\n",
        "                                 activation= 'sigmoid'))\n",
        "    opt = keras.optimizers.adam(learning_rate= 0.0002, beta_1= 0.5)\n",
        "    model.compile(loss= 'binary_crossentropy', optimizer= opt, metrics= ['accuracy'])\n",
        "    \n",
        "    return model"
      ],
      "execution_count": 4,
      "outputs": []
    },
    {
      "cell_type": "markdown",
      "metadata": {
        "id": "5JEzmdqCBpPv",
        "colab_type": "text"
      },
      "source": [
        "## Defining the Generator"
      ]
    },
    {
      "cell_type": "code",
      "metadata": {
        "id": "Iqn-f6gj__KY",
        "colab_type": "code",
        "colab": {}
      },
      "source": [
        "def define_generator(latent_dim):\n",
        "    model = keras.models.Sequential()\n",
        "\n",
        "    model.add(keras.layers.Dense(units= 256 * 6 * 5, input_dim= latent_dim))\n",
        "    model.add(keras.layers.LeakyReLU(0.2))\n",
        "    model.add(keras.layers.Reshape((6, 5, 256)))\n",
        "    # 6 * 5\n",
        "    model.add(keras.layers.Conv2DTranspose(filters= 256,\n",
        "                                           kernel_size= (4,4),\n",
        "                                           padding= 'same',\n",
        "                                           strides= (2,2)))\n",
        "    model.add(keras.layers.LeakyReLU(0.2))\n",
        "    # 12 * 10\n",
        "    model.add(keras.layers.Conv2DTranspose(filters= 128,\n",
        "                                           kernel_size= (4,4),\n",
        "                                           padding= 'same',\n",
        "                                           strides= (2,2)))\n",
        "    model.add(keras.layers.LeakyReLU(0.2))\n",
        "    # 24 * 20\n",
        "    model.add(keras.layers.Conv2DTranspose(filters= 128,\n",
        "                                           kernel_size= (4,4),\n",
        "                                           padding= 'same',\n",
        "                                           strides= (2,2)))\n",
        "    model.add(keras.layers.LeakyReLU(0.2))\n",
        "    # 48 * 40\n",
        "    model.add(keras.layers.Conv2DTranspose(filters= 128,\n",
        "                                           kernel_size= (4,4),\n",
        "                                           padding= 'same',\n",
        "                                           strides= (2,2)))\n",
        "    model.add(keras.layers.LeakyReLU(0.2))\n",
        "    # 96 * 80\n",
        "    \n",
        "    # Ready for colorization\n",
        "    model.add(keras.layers.Conv2D(filters= 3,\n",
        "                                  kernel_size= (3,3),\n",
        "                                  padding= 'same',\n",
        "                                  activation= 'tanh'))\n",
        "    \n",
        "    return model"
      ],
      "execution_count": 5,
      "outputs": []
    },
    {
      "cell_type": "markdown",
      "metadata": {
        "id": "jxFzu7wfBrwX",
        "colab_type": "text"
      },
      "source": [
        "## Generating the Fake samples"
      ]
    },
    {
      "cell_type": "code",
      "metadata": {
        "id": "IYunoMGTBc9_",
        "colab_type": "code",
        "colab": {}
      },
      "source": [
        "def generate_latent_points(latent_dim, n_samples):\n",
        "    X = np.random.randn(latent_dim * n_samples)\n",
        "    X = X.reshape((n_samples, latent_dim))\n",
        "    return X"
      ],
      "execution_count": 6,
      "outputs": []
    },
    {
      "cell_type": "code",
      "metadata": {
        "id": "Xgx3HtRsBeDO",
        "colab_type": "code",
        "colab": {}
      },
      "source": [
        "def generate_fake_sample(g_model, latent_dim, n_samples):\n",
        "    x_input = generate_latent_points(latent_dim= latent_dim,\n",
        "                                     n_samples= n_samples)\n",
        "    \n",
        "    X = g_model.predict(x_input)\n",
        "    y = np.zeros((n_samples, 1))\n",
        "    return X, y"
      ],
      "execution_count": 7,
      "outputs": []
    },
    {
      "cell_type": "markdown",
      "metadata": {
        "id": "xxSpoq-kCAM0",
        "colab_type": "text"
      },
      "source": [
        "## Generating the Real samples"
      ]
    },
    {
      "cell_type": "code",
      "metadata": {
        "id": "VViqdA06B_3d",
        "colab_type": "code",
        "colab": {}
      },
      "source": [
        "def generate_real_sample(train_it):\n",
        "    X, _ = train_it.next()\n",
        "    X = X[:, 6:102,4:84,:].astype('float32')\n",
        "    X = (X - 127.5) / 127.5\n",
        "    y = np.ones((X.shape[0], 1))\n",
        "    # y = 0.9 * np.ones((n_samples, 1)) + 0.2 * np.random.rand(n_samples).reshape((n_samples, 1))\n",
        "    return X, y"
      ],
      "execution_count": 8,
      "outputs": []
    },
    {
      "cell_type": "markdown",
      "metadata": {
        "id": "pK3agqMxBx10",
        "colab_type": "text"
      },
      "source": [
        "## Saving the Plot and summarizing"
      ]
    },
    {
      "cell_type": "code",
      "metadata": {
        "id": "6-dxON9lAv2a",
        "colab_type": "code",
        "colab": {}
      },
      "source": [
        "def save_plot(x_input, epoch, n=5):\n",
        "    x_input = (x_input + 1.0) / 2.0\n",
        "    filename = f'generated_{epoch + 1}.png'\n",
        "    for i in range(n*n):\n",
        "        plt.subplot(n, n, i+1)\n",
        "        plt.imshow(x_input[i,:,:,:])\n",
        "        plt.axis('off')\n",
        "    plt.savefig(filename)\n",
        "    plt.close()"
      ],
      "execution_count": 9,
      "outputs": []
    },
    {
      "cell_type": "code",
      "metadata": {
        "id": "8SXygfc8BCt1",
        "colab_type": "code",
        "colab": {}
      },
      "source": [
        "def summarize_the_model(g_model, d_model, epoch, latent_dim, n_samples, train_iter):\n",
        "    X_real, y_real = generate_real_sample(train_it= train_iter)\n",
        "    X_fake, y_fake = generate_fake_sample(g_model= g_model,\n",
        "                                          latent_dim= latent_dim,\n",
        "                                          n_samples= n_samples)\n",
        "    print(f'Accuracy on real data: {d_model.evaluate(X_real, y_real, verbose= 0)}')\n",
        "    print(f'Accuracy on fake data: {d_model.evaluate(X_fake, y_fake, verbose= 0)}')\n",
        "    filename_g = f'drive/My Drive/CGAN/g_model_e_{epoch + 1:02}.h5'\n",
        "    filename_d = f'drive/My Drive/CGAN/d_model_e_{epoch + 1:02}.h5'\n",
        "    \n",
        "    save_plot(x_input= X_fake,\n",
        "              epoch= epoch)\n",
        "\n",
        "    g_model.save(filename_g)\n",
        "    d_model.save(filename_d)"
      ],
      "execution_count": 10,
      "outputs": []
    },
    {
      "cell_type": "markdown",
      "metadata": {
        "id": "kthsHFTkB0WM",
        "colab_type": "text"
      },
      "source": [
        "# Function for training the GAN"
      ]
    },
    {
      "cell_type": "code",
      "metadata": {
        "id": "omaXYPk9BD_n",
        "colab_type": "code",
        "colab": {}
      },
      "source": [
        "def train_GAN(gan_model, g_model, d_model, dataset_len, latent_dim, train_iter, iters= 100, batch_size= 256, last_epoch= None):\n",
        "    half_batch = int(batch_size / 2)\n",
        "    batch_per_epoch = int(dataset_len / batch_size)\n",
        "    for i in range(iters):\n",
        "        for j in range(batch_per_epoch):\n",
        "            X_real, y_real = generate_real_sample(train_it= train_it)\n",
        "            X_fake, y_fake = generate_fake_sample(g_model= g_model,\n",
        "                                                  latent_dim= latent_dim,\n",
        "                                                  n_samples= half_batch)\n",
        "            X, y = np.vstack((X_real, X_fake)), np.vstack((y_real, y_fake))\n",
        "            dloss = d_model.train_on_batch(X, y)\n",
        "            x_gan = generate_latent_points(latent_dim= latent_dim,\n",
        "                                             n_samples= batch_size)\n",
        "            y_gan = np.ones((batch_size, 1))\n",
        "            gloss = gan_model.train_on_batch(x_gan, y_gan)\n",
        "            print(f'> Epoch: {i+1}, {j+1}/{batch_per_epoch}, dloss: {dloss[0]:5f}, gloss: {gloss:5f}')\n",
        "        # After each epoch\n",
        "        epoch_number = 0\n",
        "        if last_epoch is not None:\n",
        "          epoch_number = i + int(last_epoch)\n",
        "        else:\n",
        "          epoch_number = i\n",
        "\n",
        "        summarize_the_model(g_model= g_model,\n",
        "                            d_model= d_model,\n",
        "                            epoch= epoch_number,\n",
        "                            latent_dim= latent_dim,\n",
        "                            n_samples= batch_size,\n",
        "                            train_iter= train_it)"
      ],
      "execution_count": 11,
      "outputs": []
    },
    {
      "cell_type": "code",
      "metadata": {
        "id": "Ehrm8-8a9DD3",
        "colab_type": "code",
        "colab": {}
      },
      "source": [
        "def load_models(latent_dim, last_epoch= None):\n",
        "  if last_epoch is not None:\n",
        "    g_model = keras.models.load_model(f'drive/My Drive/CGAN/g_model_e_{last_epoch}.h5')\n",
        "    d_model = keras.models.load_model(f'drive/My Drive/CGAN/d_model_e_{last_epoch}.h5')\n",
        "    gan_model = define_GAN(g_model=g_model,\n",
        "                          d_model= d_model)\n",
        "\n",
        "  else:\n",
        "    g_model = define_generator(latent_dim= latent_dim)\n",
        "    d_model = define_discriminator()\n",
        "    gan_model = define_GAN(g_model=g_model,\n",
        "                          d_model= d_model)\n",
        "    \n",
        "  return g_model, d_model, gan_model"
      ],
      "execution_count": 12,
      "outputs": []
    },
    {
      "cell_type": "markdown",
      "metadata": {
        "id": "ISoTcPvkCevl",
        "colab_type": "text"
      },
      "source": [
        "## Training the Model"
      ]
    },
    {
      "cell_type": "code",
      "metadata": {
        "id": "bL1Z-D3VCh8p",
        "colab_type": "code",
        "colab": {
          "base_uri": "https://localhost:8080/",
          "height": 476
        },
        "outputId": "6efee044-cc95-4713-936c-74942fca89d9"
      },
      "source": [
        "latent_dim = 200\n",
        "batch_size = 128\n",
        "last_epoch = \"47\"\n",
        "\n",
        "g_model, d_model, gan_model = load_models(latent_dim,\n",
        "                                          last_epoch= last_epoch)\n",
        "\n",
        "datagen = keras.preprocessing.image.ImageDataGenerator()\n",
        "path = os.getcwd() + '/data_faces'\n",
        "train_it = datagen.flow_from_directory(path,\n",
        "                                       batch_size= int(batch_size/2),\n",
        "                                       target_size= (218, 178))\n",
        "\n",
        "train_GAN(gan_model= gan_model,\n",
        "          g_model= g_model,\n",
        "          d_model= d_model,\n",
        "          dataset_len= 202599,\n",
        "          latent_dim= latent_dim,\n",
        "          train_iter= train_it,\n",
        "          last_epoch= last_epoch)"
      ],
      "execution_count": 13,
      "outputs": [
        {
          "output_type": "error",
          "ename": "OSError",
          "evalue": "ignored",
          "traceback": [
            "\u001b[0;31m---------------------------------------------------------------------------\u001b[0m",
            "\u001b[0;31mOSError\u001b[0m                                   Traceback (most recent call last)",
            "\u001b[0;32m<ipython-input-13-a8d088eaadd2>\u001b[0m in \u001b[0;36m<module>\u001b[0;34m()\u001b[0m\n\u001b[1;32m      4\u001b[0m \u001b[0;34m\u001b[0m\u001b[0m\n\u001b[1;32m      5\u001b[0m g_model, d_model, gan_model = load_models(latent_dim,\n\u001b[0;32m----> 6\u001b[0;31m                                           last_epoch= last_epoch)\n\u001b[0m\u001b[1;32m      7\u001b[0m \u001b[0;34m\u001b[0m\u001b[0m\n\u001b[1;32m      8\u001b[0m \u001b[0mdatagen\u001b[0m \u001b[0;34m=\u001b[0m \u001b[0mkeras\u001b[0m\u001b[0;34m.\u001b[0m\u001b[0mpreprocessing\u001b[0m\u001b[0;34m.\u001b[0m\u001b[0mimage\u001b[0m\u001b[0;34m.\u001b[0m\u001b[0mImageDataGenerator\u001b[0m\u001b[0;34m(\u001b[0m\u001b[0;34m)\u001b[0m\u001b[0;34m\u001b[0m\u001b[0;34m\u001b[0m\u001b[0m\n",
            "\u001b[0;32m<ipython-input-12-a851053b3a1f>\u001b[0m in \u001b[0;36mload_models\u001b[0;34m(latent_dim, last_epoch)\u001b[0m\n\u001b[1;32m      1\u001b[0m \u001b[0;32mdef\u001b[0m \u001b[0mload_models\u001b[0m\u001b[0;34m(\u001b[0m\u001b[0mlatent_dim\u001b[0m\u001b[0;34m,\u001b[0m \u001b[0mlast_epoch\u001b[0m\u001b[0;34m=\u001b[0m \u001b[0;32mNone\u001b[0m\u001b[0;34m)\u001b[0m\u001b[0;34m:\u001b[0m\u001b[0;34m\u001b[0m\u001b[0;34m\u001b[0m\u001b[0m\n\u001b[1;32m      2\u001b[0m   \u001b[0;32mif\u001b[0m \u001b[0mlast_epoch\u001b[0m \u001b[0;32mis\u001b[0m \u001b[0;32mnot\u001b[0m \u001b[0;32mNone\u001b[0m\u001b[0;34m:\u001b[0m\u001b[0;34m\u001b[0m\u001b[0;34m\u001b[0m\u001b[0m\n\u001b[0;32m----> 3\u001b[0;31m     \u001b[0mg_model\u001b[0m \u001b[0;34m=\u001b[0m \u001b[0mkeras\u001b[0m\u001b[0;34m.\u001b[0m\u001b[0mmodels\u001b[0m\u001b[0;34m.\u001b[0m\u001b[0mload_model\u001b[0m\u001b[0;34m(\u001b[0m\u001b[0;34mf'drive/My Drive/CGAN/g_model_e_{last_epoch}.h5'\u001b[0m\u001b[0;34m)\u001b[0m\u001b[0;34m\u001b[0m\u001b[0;34m\u001b[0m\u001b[0m\n\u001b[0m\u001b[1;32m      4\u001b[0m     \u001b[0md_model\u001b[0m \u001b[0;34m=\u001b[0m \u001b[0mkeras\u001b[0m\u001b[0;34m.\u001b[0m\u001b[0mmodels\u001b[0m\u001b[0;34m.\u001b[0m\u001b[0mload_model\u001b[0m\u001b[0;34m(\u001b[0m\u001b[0;34mf'drive/My Drive/CGAN/d_model_e_{last_epoch}.h5'\u001b[0m\u001b[0;34m)\u001b[0m\u001b[0;34m\u001b[0m\u001b[0;34m\u001b[0m\u001b[0m\n\u001b[1;32m      5\u001b[0m     gan_model = define_GAN(g_model=g_model,\n",
            "\u001b[0;32m/usr/local/lib/python3.6/dist-packages/keras/engine/saving.py\u001b[0m in \u001b[0;36mload_wrapper\u001b[0;34m(*args, **kwargs)\u001b[0m\n\u001b[1;32m    490\u001b[0m                 \u001b[0mos\u001b[0m\u001b[0;34m.\u001b[0m\u001b[0mremove\u001b[0m\u001b[0;34m(\u001b[0m\u001b[0mtmp_filepath\u001b[0m\u001b[0;34m)\u001b[0m\u001b[0;34m\u001b[0m\u001b[0;34m\u001b[0m\u001b[0m\n\u001b[1;32m    491\u001b[0m             \u001b[0;32mreturn\u001b[0m \u001b[0mres\u001b[0m\u001b[0;34m\u001b[0m\u001b[0;34m\u001b[0m\u001b[0m\n\u001b[0;32m--> 492\u001b[0;31m         \u001b[0;32mreturn\u001b[0m \u001b[0mload_function\u001b[0m\u001b[0;34m(\u001b[0m\u001b[0;34m*\u001b[0m\u001b[0margs\u001b[0m\u001b[0;34m,\u001b[0m \u001b[0;34m**\u001b[0m\u001b[0mkwargs\u001b[0m\u001b[0;34m)\u001b[0m\u001b[0;34m\u001b[0m\u001b[0;34m\u001b[0m\u001b[0m\n\u001b[0m\u001b[1;32m    493\u001b[0m \u001b[0;34m\u001b[0m\u001b[0m\n\u001b[1;32m    494\u001b[0m     \u001b[0;32mreturn\u001b[0m \u001b[0mload_wrapper\u001b[0m\u001b[0;34m\u001b[0m\u001b[0;34m\u001b[0m\u001b[0m\n",
            "\u001b[0;32m/usr/local/lib/python3.6/dist-packages/keras/engine/saving.py\u001b[0m in \u001b[0;36mload_model\u001b[0;34m(filepath, custom_objects, compile)\u001b[0m\n\u001b[1;32m    581\u001b[0m \u001b[0;34m\u001b[0m\u001b[0m\n\u001b[1;32m    582\u001b[0m     \u001b[0;32mif\u001b[0m \u001b[0mH5Dict\u001b[0m\u001b[0;34m.\u001b[0m\u001b[0mis_supported_type\u001b[0m\u001b[0;34m(\u001b[0m\u001b[0mfilepath\u001b[0m\u001b[0;34m)\u001b[0m\u001b[0;34m:\u001b[0m\u001b[0;34m\u001b[0m\u001b[0;34m\u001b[0m\u001b[0m\n\u001b[0;32m--> 583\u001b[0;31m         \u001b[0;32mwith\u001b[0m \u001b[0mH5Dict\u001b[0m\u001b[0;34m(\u001b[0m\u001b[0mfilepath\u001b[0m\u001b[0;34m,\u001b[0m \u001b[0mmode\u001b[0m\u001b[0;34m=\u001b[0m\u001b[0;34m'r'\u001b[0m\u001b[0;34m)\u001b[0m \u001b[0;32mas\u001b[0m \u001b[0mh5dict\u001b[0m\u001b[0;34m:\u001b[0m\u001b[0;34m\u001b[0m\u001b[0;34m\u001b[0m\u001b[0m\n\u001b[0m\u001b[1;32m    584\u001b[0m             \u001b[0mmodel\u001b[0m \u001b[0;34m=\u001b[0m \u001b[0m_deserialize_model\u001b[0m\u001b[0;34m(\u001b[0m\u001b[0mh5dict\u001b[0m\u001b[0;34m,\u001b[0m \u001b[0mcustom_objects\u001b[0m\u001b[0;34m,\u001b[0m \u001b[0mcompile\u001b[0m\u001b[0;34m)\u001b[0m\u001b[0;34m\u001b[0m\u001b[0;34m\u001b[0m\u001b[0m\n\u001b[1;32m    585\u001b[0m     \u001b[0;32melif\u001b[0m \u001b[0mhasattr\u001b[0m\u001b[0;34m(\u001b[0m\u001b[0mfilepath\u001b[0m\u001b[0;34m,\u001b[0m \u001b[0;34m'write'\u001b[0m\u001b[0;34m)\u001b[0m \u001b[0;32mand\u001b[0m \u001b[0mcallable\u001b[0m\u001b[0;34m(\u001b[0m\u001b[0mfilepath\u001b[0m\u001b[0;34m.\u001b[0m\u001b[0mwrite\u001b[0m\u001b[0;34m)\u001b[0m\u001b[0;34m:\u001b[0m\u001b[0;34m\u001b[0m\u001b[0;34m\u001b[0m\u001b[0m\n",
            "\u001b[0;32m/usr/local/lib/python3.6/dist-packages/keras/utils/io_utils.py\u001b[0m in \u001b[0;36m__init__\u001b[0;34m(self, path, mode)\u001b[0m\n\u001b[1;32m    189\u001b[0m             \u001b[0mself\u001b[0m\u001b[0;34m.\u001b[0m\u001b[0m_is_file\u001b[0m \u001b[0;34m=\u001b[0m \u001b[0;32mFalse\u001b[0m\u001b[0;34m\u001b[0m\u001b[0;34m\u001b[0m\u001b[0m\n\u001b[1;32m    190\u001b[0m         \u001b[0;32melif\u001b[0m \u001b[0misinstance\u001b[0m\u001b[0;34m(\u001b[0m\u001b[0mpath\u001b[0m\u001b[0;34m,\u001b[0m \u001b[0msix\u001b[0m\u001b[0;34m.\u001b[0m\u001b[0mstring_types\u001b[0m\u001b[0;34m)\u001b[0m \u001b[0;32mor\u001b[0m \u001b[0m_is_path_instance\u001b[0m\u001b[0;34m(\u001b[0m\u001b[0mpath\u001b[0m\u001b[0;34m)\u001b[0m\u001b[0;34m:\u001b[0m\u001b[0;34m\u001b[0m\u001b[0;34m\u001b[0m\u001b[0m\n\u001b[0;32m--> 191\u001b[0;31m             \u001b[0mself\u001b[0m\u001b[0;34m.\u001b[0m\u001b[0mdata\u001b[0m \u001b[0;34m=\u001b[0m \u001b[0mh5py\u001b[0m\u001b[0;34m.\u001b[0m\u001b[0mFile\u001b[0m\u001b[0;34m(\u001b[0m\u001b[0mpath\u001b[0m\u001b[0;34m,\u001b[0m \u001b[0mmode\u001b[0m\u001b[0;34m=\u001b[0m\u001b[0mmode\u001b[0m\u001b[0;34m)\u001b[0m\u001b[0;34m\u001b[0m\u001b[0;34m\u001b[0m\u001b[0m\n\u001b[0m\u001b[1;32m    192\u001b[0m             \u001b[0mself\u001b[0m\u001b[0;34m.\u001b[0m\u001b[0m_is_file\u001b[0m \u001b[0;34m=\u001b[0m \u001b[0;32mTrue\u001b[0m\u001b[0;34m\u001b[0m\u001b[0;34m\u001b[0m\u001b[0m\n\u001b[1;32m    193\u001b[0m         \u001b[0;32melif\u001b[0m \u001b[0misinstance\u001b[0m\u001b[0;34m(\u001b[0m\u001b[0mpath\u001b[0m\u001b[0;34m,\u001b[0m \u001b[0mdict\u001b[0m\u001b[0;34m)\u001b[0m\u001b[0;34m:\u001b[0m\u001b[0;34m\u001b[0m\u001b[0;34m\u001b[0m\u001b[0m\n",
            "\u001b[0;32m/usr/local/lib/python3.6/dist-packages/h5py/_hl/files.py\u001b[0m in \u001b[0;36m__init__\u001b[0;34m(self, name, mode, driver, libver, userblock_size, swmr, rdcc_nslots, rdcc_nbytes, rdcc_w0, track_order, **kwds)\u001b[0m\n\u001b[1;32m    406\u001b[0m                 fid = make_fid(name, mode, userblock_size,\n\u001b[1;32m    407\u001b[0m                                \u001b[0mfapl\u001b[0m\u001b[0;34m,\u001b[0m \u001b[0mfcpl\u001b[0m\u001b[0;34m=\u001b[0m\u001b[0mmake_fcpl\u001b[0m\u001b[0;34m(\u001b[0m\u001b[0mtrack_order\u001b[0m\u001b[0;34m=\u001b[0m\u001b[0mtrack_order\u001b[0m\u001b[0;34m)\u001b[0m\u001b[0;34m,\u001b[0m\u001b[0;34m\u001b[0m\u001b[0;34m\u001b[0m\u001b[0m\n\u001b[0;32m--> 408\u001b[0;31m                                swmr=swmr)\n\u001b[0m\u001b[1;32m    409\u001b[0m \u001b[0;34m\u001b[0m\u001b[0m\n\u001b[1;32m    410\u001b[0m             \u001b[0;32mif\u001b[0m \u001b[0misinstance\u001b[0m\u001b[0;34m(\u001b[0m\u001b[0mlibver\u001b[0m\u001b[0;34m,\u001b[0m \u001b[0mtuple\u001b[0m\u001b[0;34m)\u001b[0m\u001b[0;34m:\u001b[0m\u001b[0;34m\u001b[0m\u001b[0;34m\u001b[0m\u001b[0m\n",
            "\u001b[0;32m/usr/local/lib/python3.6/dist-packages/h5py/_hl/files.py\u001b[0m in \u001b[0;36mmake_fid\u001b[0;34m(name, mode, userblock_size, fapl, fcpl, swmr)\u001b[0m\n\u001b[1;32m    171\u001b[0m         \u001b[0;32mif\u001b[0m \u001b[0mswmr\u001b[0m \u001b[0;32mand\u001b[0m \u001b[0mswmr_support\u001b[0m\u001b[0;34m:\u001b[0m\u001b[0;34m\u001b[0m\u001b[0;34m\u001b[0m\u001b[0m\n\u001b[1;32m    172\u001b[0m             \u001b[0mflags\u001b[0m \u001b[0;34m|=\u001b[0m \u001b[0mh5f\u001b[0m\u001b[0;34m.\u001b[0m\u001b[0mACC_SWMR_READ\u001b[0m\u001b[0;34m\u001b[0m\u001b[0;34m\u001b[0m\u001b[0m\n\u001b[0;32m--> 173\u001b[0;31m         \u001b[0mfid\u001b[0m \u001b[0;34m=\u001b[0m \u001b[0mh5f\u001b[0m\u001b[0;34m.\u001b[0m\u001b[0mopen\u001b[0m\u001b[0;34m(\u001b[0m\u001b[0mname\u001b[0m\u001b[0;34m,\u001b[0m \u001b[0mflags\u001b[0m\u001b[0;34m,\u001b[0m \u001b[0mfapl\u001b[0m\u001b[0;34m=\u001b[0m\u001b[0mfapl\u001b[0m\u001b[0;34m)\u001b[0m\u001b[0;34m\u001b[0m\u001b[0;34m\u001b[0m\u001b[0m\n\u001b[0m\u001b[1;32m    174\u001b[0m     \u001b[0;32melif\u001b[0m \u001b[0mmode\u001b[0m \u001b[0;34m==\u001b[0m \u001b[0;34m'r+'\u001b[0m\u001b[0;34m:\u001b[0m\u001b[0;34m\u001b[0m\u001b[0;34m\u001b[0m\u001b[0m\n\u001b[1;32m    175\u001b[0m         \u001b[0mfid\u001b[0m \u001b[0;34m=\u001b[0m \u001b[0mh5f\u001b[0m\u001b[0;34m.\u001b[0m\u001b[0mopen\u001b[0m\u001b[0;34m(\u001b[0m\u001b[0mname\u001b[0m\u001b[0;34m,\u001b[0m \u001b[0mh5f\u001b[0m\u001b[0;34m.\u001b[0m\u001b[0mACC_RDWR\u001b[0m\u001b[0;34m,\u001b[0m \u001b[0mfapl\u001b[0m\u001b[0;34m=\u001b[0m\u001b[0mfapl\u001b[0m\u001b[0;34m)\u001b[0m\u001b[0;34m\u001b[0m\u001b[0;34m\u001b[0m\u001b[0m\n",
            "\u001b[0;32mh5py/_objects.pyx\u001b[0m in \u001b[0;36mh5py._objects.with_phil.wrapper\u001b[0;34m()\u001b[0m\n",
            "\u001b[0;32mh5py/_objects.pyx\u001b[0m in \u001b[0;36mh5py._objects.with_phil.wrapper\u001b[0;34m()\u001b[0m\n",
            "\u001b[0;32mh5py/h5f.pyx\u001b[0m in \u001b[0;36mh5py.h5f.open\u001b[0;34m()\u001b[0m\n",
            "\u001b[0;31mOSError\u001b[0m: Unable to open file (unable to open file: name = 'drive/My Drive/CGAN/g_model_e_47.h5', errno = 2, error message = 'No such file or directory', flags = 0, o_flags = 0)"
          ]
        }
      ]
    },
    {
      "cell_type": "code",
      "metadata": {
        "id": "1-74HlgPlUo-",
        "colab_type": "code",
        "colab": {}
      },
      "source": [
        "!nvidia-smi"
      ],
      "execution_count": null,
      "outputs": []
    },
    {
      "cell_type": "code",
      "metadata": {
        "id": "MIbOBJuR6W_d",
        "colab_type": "code",
        "colab": {}
      },
      "source": [
        "from google.colab import drive\n",
        "drive.mount('/content/drive')"
      ],
      "execution_count": null,
      "outputs": []
    }
  ]
}