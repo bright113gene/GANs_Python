{
  "nbformat": 4,
  "nbformat_minor": 0,
  "metadata": {
    "kernelspec": {
      "display_name": "Python 3",
      "language": "python",
      "name": "python3"
    },
    "language_info": {
      "codemirror_mode": {
        "name": "ipython",
        "version": 3
      },
      "file_extension": ".py",
      "mimetype": "text/x-python",
      "name": "python",
      "nbconvert_exporter": "python",
      "pygments_lexer": "ipython3",
      "version": "3.7.0"
    },
    "colab": {
      "name": "05 - Training the GAN for CelebA.ipynb",
      "provenance": [],
      "toc_visible": true
    },
    "accelerator": "GPU"
  },
  "cells": [
    {
      "cell_type": "markdown",
      "metadata": {
        "id": "P_yjX0AkCiuF",
        "colab_type": "text"
      },
      "source": [
        "## Loading the data"
      ]
    },
    {
      "cell_type": "code",
      "metadata": {
        "id": "JPauqzIwBXam",
        "colab_type": "code",
        "colab": {
          "base_uri": "https://localhost:8080/",
          "height": 54
        },
        "outputId": "6ba37ca4-8aa4-46ef-b81a-71e97ad9f627"
      },
      "source": [
        "\"\"\"\n",
        "!wget https://s3-us-west-1.amazonaws.com/udacity-dlnfd/datasets/celeba.zip\n",
        "import zipfile, os\n",
        "with zipfile.ZipFile(os.getcwd() + '/celeba.zip', 'r') as zip_ref:\n",
        "  zip_ref.extractall(os.getcwd()+'/data_faces')\n",
        "\"\"\""
      ],
      "execution_count": 1,
      "outputs": [
        {
          "output_type": "execute_result",
          "data": {
            "text/plain": [
              "\"\\n!wget https://s3-us-west-1.amazonaws.com/udacity-dlnfd/datasets/celeba.zip\\nimport zipfile, os\\nwith zipfile.ZipFile(os.getcwd() + '/celeba.zip', 'r') as zip_ref:\\n  zip_ref.extractall(os.getcwd()+'/data_faces')\\n\""
            ]
          },
          "metadata": {
            "tags": []
          },
          "execution_count": 1
        }
      ]
    },
    {
      "cell_type": "markdown",
      "metadata": {
        "id": "YQuAFD8HBiOm",
        "colab_type": "text"
      },
      "source": [
        "# Importing the libraries"
      ]
    },
    {
      "cell_type": "code",
      "metadata": {
        "id": "9qGawzGj_KWj",
        "colab_type": "code",
        "colab": {
          "base_uri": "https://localhost:8080/",
          "height": 34
        },
        "outputId": "c5ca52fd-57d0-4278-a7b0-5c03f9f17c6e"
      },
      "source": [
        "import keras\n",
        "import numpy as np\n",
        "import matplotlib.pyplot as plt\n",
        "import os"
      ],
      "execution_count": 2,
      "outputs": [
        {
          "output_type": "stream",
          "text": [
            "Using TensorFlow backend.\n"
          ],
          "name": "stderr"
        }
      ]
    },
    {
      "cell_type": "markdown",
      "metadata": {
        "id": "3T50N2FHBkqW",
        "colab_type": "text"
      },
      "source": [
        "## Defining the GAN"
      ]
    },
    {
      "cell_type": "code",
      "metadata": {
        "id": "yGaJfOYb_Nh_",
        "colab_type": "code",
        "colab": {}
      },
      "source": [
        "def define_GAN(g_model, d_model):\n",
        "    d_model.trainable = False\n",
        "    model = keras.models.Sequential()\n",
        "    model.add(g_model)\n",
        "    model.add(d_model)\n",
        "    opt = keras.optimizers.adam(learning_rate= 0.0002,\n",
        "                                beta_1= 0.5)\n",
        "    model.compile(loss= 'binary_crossentropy', optimizer= opt)\n",
        "    return model"
      ],
      "execution_count": 3,
      "outputs": []
    },
    {
      "cell_type": "markdown",
      "metadata": {
        "id": "RnzBD8mpBmtH",
        "colab_type": "text"
      },
      "source": [
        "## Defining the Discriminator"
      ]
    },
    {
      "cell_type": "code",
      "metadata": {
        "id": "rQyGjaNi_SkC",
        "colab_type": "code",
        "colab": {}
      },
      "source": [
        "def define_discriminator(input_shape= (96,80,3)):\n",
        "    model = keras.models.Sequential()\n",
        "    \n",
        "    model.add(keras.layers.Conv2D(filters= 128,\n",
        "                                  kernel_size= (3,3),\n",
        "                                  padding= 'same',\n",
        "                                  input_shape= input_shape))\n",
        "    model.add(keras.layers.LeakyReLU(0.2))\n",
        "    model.add(keras.layers.Dropout(0.4))\n",
        "\n",
        "    # 96 * 80 * 3\n",
        "    model.add(keras.layers.Conv2D(filters= 128,\n",
        "                                  kernel_size= (3,3),\n",
        "                                  strides= (2,2),\n",
        "                                  padding= 'same'))\n",
        "    model.add(keras.layers.LeakyReLU(0.2))\n",
        "    model.add(keras.layers.Dropout(0.4))\n",
        "    \n",
        "    # 48 * 40 * 3\n",
        "    model.add(keras.layers.Conv2D(filters= 128,\n",
        "                                  kernel_size= (4,4),\n",
        "                                  strides= (2,2),\n",
        "                                  padding= 'same'))\n",
        "    model.add(keras.layers.LeakyReLU(0.2))\n",
        "    model.add(keras.layers.Dropout(0.4))\n",
        "    \n",
        "    # 24 * 20 * 3\n",
        "    model.add(keras.layers.Conv2D(filters= 128,\n",
        "                                  kernel_size= (4,4),\n",
        "                                  strides= (2,2),\n",
        "                                  padding= 'same'))\n",
        "    model.add(keras.layers.LeakyReLU(0.2))\n",
        "    model.add(keras.layers.Dropout(0.4))\n",
        "    \n",
        "    # 12 * 10 * 3\n",
        "\n",
        "    model.add(keras.layers.Flatten())\n",
        "    model.add(keras.layers.Dropout(0.4))\n",
        "    model.add(keras.layers.Dense(units= 1,\n",
        "                                 activation= 'sigmoid'))\n",
        "    opt = keras.optimizers.adam(learning_rate= 0.0002, beta_1= 0.5)\n",
        "    model.compile(loss= 'binary_crossentropy', optimizer= opt, metrics= ['accuracy'])\n",
        "    \n",
        "    return model"
      ],
      "execution_count": 4,
      "outputs": []
    },
    {
      "cell_type": "markdown",
      "metadata": {
        "id": "5JEzmdqCBpPv",
        "colab_type": "text"
      },
      "source": [
        "## Defining the Generator"
      ]
    },
    {
      "cell_type": "code",
      "metadata": {
        "id": "Iqn-f6gj__KY",
        "colab_type": "code",
        "colab": {}
      },
      "source": [
        "def define_generator(latent_dim):\n",
        "    model = keras.models.Sequential()\n",
        "\n",
        "    model.add(keras.layers.Dense(units= 1024 * 6 * 5, input_dim= latent_dim))\n",
        "    model.add(keras.layers.LeakyReLU(0.2))\n",
        "    model.add(keras.layers.Reshape((6, 5, 1024)))\n",
        "    # 6 * 5\n",
        "    model.add(keras.layers.Conv2DTranspose(filters= 512,\n",
        "                                           kernel_size= (4,4),\n",
        "                                           padding= 'same',\n",
        "                                           strides= (2,2)))\n",
        "    model.add(keras.layers.LeakyReLU(0.2))\n",
        "    # 12 * 10\n",
        "    model.add(keras.layers.Conv2DTranspose(filters= 256,\n",
        "                                           kernel_size= (4,4),\n",
        "                                           padding= 'same',\n",
        "                                           strides= (2,2)))\n",
        "    model.add(keras.layers.LeakyReLU(0.2))\n",
        "    # 24 * 20\n",
        "    model.add(keras.layers.Conv2DTranspose(filters= 128,\n",
        "                                           kernel_size= (4,4),\n",
        "                                           padding= 'same',\n",
        "                                           strides= (2,2)))\n",
        "    model.add(keras.layers.LeakyReLU(0.2))\n",
        "    # 48 * 40\n",
        "    model.add(keras.layers.Conv2DTranspose(filters= 128,\n",
        "                                           kernel_size= (4,4),\n",
        "                                           padding= 'same',\n",
        "                                           strides= (2,2)))\n",
        "    model.add(keras.layers.LeakyReLU(0.2))\n",
        "    # 96 * 80\n",
        "    \n",
        "    # Ready for colorization\n",
        "    model.add(keras.layers.Conv2D(filters= 3,\n",
        "                                  kernel_size= (3,3),\n",
        "                                  padding= 'same',\n",
        "                                  activation= 'tanh'))\n",
        "    \n",
        "    return model"
      ],
      "execution_count": 5,
      "outputs": []
    },
    {
      "cell_type": "markdown",
      "metadata": {
        "id": "jxFzu7wfBrwX",
        "colab_type": "text"
      },
      "source": [
        "## Generating the Fake samples"
      ]
    },
    {
      "cell_type": "code",
      "metadata": {
        "id": "IYunoMGTBc9_",
        "colab_type": "code",
        "colab": {}
      },
      "source": [
        "def generate_latent_points(latent_dim, n_samples):\n",
        "    X = np.random.randn(latent_dim * n_samples)\n",
        "    X = X.reshape((n_samples, latent_dim))\n",
        "    return X"
      ],
      "execution_count": 6,
      "outputs": []
    },
    {
      "cell_type": "code",
      "metadata": {
        "id": "Xgx3HtRsBeDO",
        "colab_type": "code",
        "colab": {}
      },
      "source": [
        "def generate_fake_sample(g_model, latent_dim, n_samples):\n",
        "    x_input = generate_latent_points(latent_dim= latent_dim,\n",
        "                                     n_samples= n_samples)\n",
        "    \n",
        "    X = g_model.predict(x_input)\n",
        "    y = np.zeros((n_samples, 1))\n",
        "    return X, y"
      ],
      "execution_count": 7,
      "outputs": []
    },
    {
      "cell_type": "markdown",
      "metadata": {
        "id": "xxSpoq-kCAM0",
        "colab_type": "text"
      },
      "source": [
        "## Generating the Real samples"
      ]
    },
    {
      "cell_type": "code",
      "metadata": {
        "id": "VViqdA06B_3d",
        "colab_type": "code",
        "colab": {}
      },
      "source": [
        "def generate_real_sample(train_it):\n",
        "    X, _ = train_it.next()\n",
        "    X = X[:, 6:102,4:84,:].astype('float32')\n",
        "    X = (X - 127.5) / 127.5\n",
        "    y = np.ones((X.shape[0], 1))\n",
        "    # y = 0.9 * np.ones((n_samples, 1)) + 0.2 * np.random.rand(n_samples).reshape((n_samples, 1))\n",
        "    return X, y"
      ],
      "execution_count": 8,
      "outputs": []
    },
    {
      "cell_type": "markdown",
      "metadata": {
        "id": "pK3agqMxBx10",
        "colab_type": "text"
      },
      "source": [
        "## Saving the Plot and summarizing"
      ]
    },
    {
      "cell_type": "code",
      "metadata": {
        "id": "6-dxON9lAv2a",
        "colab_type": "code",
        "colab": {}
      },
      "source": [
        "def save_plot(x_input, epoch, n=5):\n",
        "    x_input = (x_input + 1.0) / 2.0\n",
        "    filename = f'generated_{epoch + 1}.png'\n",
        "    for i in range(n*n):\n",
        "        plt.subplot(n, n, i+1)\n",
        "        plt.imshow(x_input[i,:,:,:])\n",
        "        plt.axis('off')\n",
        "    plt.savefig(filename)\n",
        "    plt.close()"
      ],
      "execution_count": 9,
      "outputs": []
    },
    {
      "cell_type": "code",
      "metadata": {
        "id": "8SXygfc8BCt1",
        "colab_type": "code",
        "colab": {}
      },
      "source": [
        "def summarize_the_model(g_model, d_model, epoch, latent_dim, n_samples, train_iter):\n",
        "    X_real, y_real = generate_real_sample(train_it= train_iter)\n",
        "    X_fake, y_fake = generate_fake_sample(g_model= g_model,\n",
        "                                          latent_dim= latent_dim,\n",
        "                                          n_samples= n_samples)\n",
        "    print(f'Accuracy on real data: {d_model.evaluate(X_real, y_real, verbose= 0)}')\n",
        "    print(f'Accuracy on fake data: {d_model.evaluate(X_fake, y_fake, verbose= 0)}')\n",
        "    filename = f'model_e_{epoch+1:03}.h5'\n",
        "    save_plot(x_input= X_fake,\n",
        "              epoch= epoch)\n",
        "    \n",
        "    g_model.save(filename)"
      ],
      "execution_count": 10,
      "outputs": []
    },
    {
      "cell_type": "markdown",
      "metadata": {
        "id": "kthsHFTkB0WM",
        "colab_type": "text"
      },
      "source": [
        "# Function for training the GAN"
      ]
    },
    {
      "cell_type": "code",
      "metadata": {
        "id": "omaXYPk9BD_n",
        "colab_type": "code",
        "colab": {}
      },
      "source": [
        "def train_GAN(gan_model, g_model, d_model, dataset_len, latent_dim, train_iter, iters= 100, batch_size= 256):\n",
        "    half_batch = int(batch_size / 2)\n",
        "    batch_per_epoch = int(dataset_len / batch_size)\n",
        "    for i in range(iters):\n",
        "        for j in range(batch_per_epoch):\n",
        "            X_real, y_real = generate_real_sample(train_it= train_it)\n",
        "            X_fake, y_fake = generate_fake_sample(g_model= g_model,\n",
        "                                                  latent_dim= latent_dim,\n",
        "                                                  n_samples= half_batch)\n",
        "            X, y = np.vstack((X_real, X_fake)), np.vstack((y_real, y_fake))\n",
        "            dloss = d_model.train_on_batch(X, y)\n",
        "            x_gan = generate_latent_points(latent_dim= latent_dim,\n",
        "                                             n_samples= batch_size)\n",
        "            y_gan = np.ones((batch_size, 1))\n",
        "            gloss = gan_model.train_on_batch(x_gan, y_gan)\n",
        "            print(f'> Epoch: {i+1}, {j+1}/{batch_per_epoch}, dloss: {dloss[0]:5f}, gloss: {gloss:5f}')\n",
        "        # After each epoch\n",
        "        summarize_the_model(g_model= g_model,\n",
        "                            d_model= d_model,\n",
        "                            epoch= i,\n",
        "                            latent_dim= latent_dim,\n",
        "                            n_samples= batch_size, train_iter= train_it)"
      ],
      "execution_count": 11,
      "outputs": []
    },
    {
      "cell_type": "markdown",
      "metadata": {
        "id": "ISoTcPvkCevl",
        "colab_type": "text"
      },
      "source": [
        "## Training the Model"
      ]
    },
    {
      "cell_type": "code",
      "metadata": {
        "id": "bL1Z-D3VCh8p",
        "colab_type": "code",
        "colab": {
          "base_uri": "https://localhost:8080/",
          "height": 1000
        },
        "outputId": "ca3305ce-cefc-44ea-9406-7d328722dd47"
      },
      "source": [
        "latent_dim = 200\n",
        "batch_size = 128\n",
        "\n",
        "g_model = define_generator(latent_dim= latent_dim)\n",
        "d_model = define_discriminator()\n",
        "gan_model = define_GAN(g_model=g_model,\n",
        "                       d_model= d_model)\n",
        "\n",
        "datagen = keras.preprocessing.image.ImageDataGenerator()\n",
        "path = os.getcwd() + '/data_faces'\n",
        "train_it = datagen.flow_from_directory(path,\n",
        "                                       batch_size= int(batch_size/2),\n",
        "                                       target_size= (218, 178))\n",
        "\n",
        "\n",
        "train_GAN(gan_model= gan_model,\n",
        "          g_model= g_model,\n",
        "          d_model= d_model,\n",
        "          dataset_len= 202599,\n",
        "          latent_dim= latent_dim, train_iter= train_it)"
      ],
      "execution_count": null,
      "outputs": [
        {
          "output_type": "stream",
          "text": [
            "Found 202599 images belonging to 1 classes.\n"
          ],
          "name": "stdout"
        },
        {
          "output_type": "stream",
          "text": [
            "/usr/local/lib/python3.6/dist-packages/keras/engine/training.py:297: UserWarning: Discrepancy between trainable weights and collected trainable weights, did you set `model.trainable` without calling `model.compile` after ?\n",
            "  'Discrepancy between trainable weights and collected trainable'\n"
          ],
          "name": "stderr"
        },
        {
          "output_type": "stream",
          "text": [
            "> Epoch: 1, 1/791, dloss: 0.706158, gloss: 0.694150\n",
            "> Epoch: 1, 2/791, dloss: 0.663778, gloss: 0.693971\n",
            "> Epoch: 1, 3/791, dloss: 0.624622, gloss: 0.690521\n",
            "> Epoch: 1, 4/791, dloss: 0.595687, gloss: 0.663707\n",
            "> Epoch: 1, 5/791, dloss: 0.633580, gloss: 0.584469\n",
            "Accuracy on real data: [0.2152627855539322, 1.0]\n",
            "Accuracy on fake data: [1.077889010310173, 0.0]\n",
            "> Epoch: 2, 1/791, dloss: 0.860998, gloss: 0.535043\n",
            "> Epoch: 2, 2/791, dloss: 0.894511, gloss: 0.619994\n",
            "> Epoch: 2, 3/791, dloss: 0.684165, gloss: 0.798792\n",
            "> Epoch: 2, 4/791, dloss: 0.582981, gloss: 0.996834\n",
            "> Epoch: 2, 5/791, dloss: 0.484403, gloss: 1.345097\n",
            "Accuracy on real data: [0.5107622742652893, 0.625]\n",
            "Accuracy on fake data: [0.38819436356425285, 1.0]\n",
            "> Epoch: 3, 1/791, dloss: 0.435592, gloss: 1.766273\n",
            "> Epoch: 3, 2/791, dloss: 0.360114, gloss: 2.193388\n",
            "> Epoch: 3, 3/791, dloss: 0.533608, gloss: 1.258700\n",
            "> Epoch: 3, 4/791, dloss: 0.639676, gloss: 0.791338\n",
            "> Epoch: 3, 5/791, dloss: 0.613564, gloss: 0.744176\n",
            "Accuracy on real data: [0.40064066648483276, 0.71875]\n",
            "Accuracy on fake data: [0.6512358412146568, 1.0]\n",
            "> Epoch: 4, 1/791, dloss: 0.531979, gloss: 0.739271\n",
            "> Epoch: 4, 2/791, dloss: 0.507159, gloss: 0.740182\n",
            "> Epoch: 4, 3/791, dloss: 0.463868, gloss: 0.740390\n",
            "> Epoch: 4, 4/791, dloss: 0.471294, gloss: 0.737939\n",
            "> Epoch: 4, 5/791, dloss: 0.506062, gloss: 0.714848\n",
            "Accuracy on real data: [0.08257981389760971, 1.0]\n",
            "Accuracy on fake data: [0.8320568948984146, 0.0]\n",
            "> Epoch: 5, 1/791, dloss: 0.618935, gloss: 0.682214\n",
            "> Epoch: 5, 2/791, dloss: 0.694492, gloss: 0.723182\n",
            "> Epoch: 5, 3/791, dloss: 0.557265, gloss: 0.881819\n",
            "> Epoch: 5, 4/791, dloss: 0.427239, gloss: 1.074602\n",
            "> Epoch: 5, 5/791, dloss: 0.407117, gloss: 1.074084\n",
            "Accuracy on real data: [0.12388094514608383, 0.984375]\n",
            "Accuracy on fake data: [0.5451012179255486, 1.0]\n",
            "> Epoch: 6, 1/791, dloss: 0.411102, gloss: 0.973226\n",
            "> Epoch: 6, 2/791, dloss: 0.432903, gloss: 0.904319\n",
            "> Epoch: 6, 3/791, dloss: 0.408948, gloss: 0.903591\n",
            "> Epoch: 6, 4/791, dloss: 0.396382, gloss: 0.930261\n",
            "> Epoch: 6, 5/791, dloss: 0.357150, gloss: 0.983355\n",
            "Accuracy on real data: [0.04012161586433649, 0.984375]\n",
            "Accuracy on fake data: [0.4812915362417698, 1.0]\n",
            "> Epoch: 7, 1/791, dloss: 0.338003, gloss: 1.059854\n",
            "> Epoch: 7, 2/791, dloss: 0.318067, gloss: 1.147082\n",
            "> Epoch: 7, 3/791, dloss: 0.298259, gloss: 1.240857\n",
            "> Epoch: 7, 4/791, dloss: 0.433366, gloss: 1.397632\n",
            "> Epoch: 7, 5/791, dloss: 0.788696, gloss: 2.887657\n",
            "Accuracy on real data: [0.06134868413209915, 0.984375]\n",
            "Accuracy on fake data: [0.14270717464387417, 1.0]\n",
            "> Epoch: 8, 1/791, dloss: 0.141062, gloss: 2.956371\n",
            "> Epoch: 8, 2/791, dloss: 0.225618, gloss: 2.421937\n",
            "> Epoch: 8, 3/791, dloss: 0.114438, gloss: 2.514323\n",
            "> Epoch: 8, 4/791, dloss: 0.075252, gloss: 2.741678\n",
            "> Epoch: 8, 5/791, dloss: 0.073719, gloss: 2.865132\n",
            "Accuracy on real data: [0.03849903820082545, 0.984375]\n",
            "Accuracy on fake data: [0.5194374397397041, 0.82421875]\n",
            "> Epoch: 9, 1/791, dloss: 0.334099, gloss: 3.388334\n",
            "> Epoch: 9, 2/791, dloss: 0.527485, gloss: 9.378333\n",
            "> Epoch: 9, 3/791, dloss: 0.713953, gloss: 3.668838\n",
            "> Epoch: 9, 4/791, dloss: 0.168052, gloss: 1.740978\n",
            "> Epoch: 9, 5/791, dloss: 0.679548, gloss: 1.251448\n",
            "Accuracy on real data: [0.06836313009262085, 0.984375]\n",
            "Accuracy on fake data: [0.9278006181120872, 0.05859375]\n",
            "> Epoch: 10, 1/791, dloss: 0.507366, gloss: 3.120927\n",
            "> Epoch: 10, 2/791, dloss: 0.186563, gloss: 4.813469\n",
            "> Epoch: 10, 3/791, dloss: 0.294984, gloss: 3.831281\n",
            "> Epoch: 10, 4/791, dloss: 0.844743, gloss: 4.568363\n",
            "> Epoch: 10, 5/791, dloss: 1.061621, gloss: 5.350105\n",
            "Accuracy on real data: [0.6154274046421051, 0.75]\n",
            "Accuracy on fake data: [0.14632353745400906, 1.0]\n"
          ],
          "name": "stdout"
        }
      ]
    },
    {
      "cell_type": "code",
      "metadata": {
        "id": "iKBvRd4OaPxW",
        "colab_type": "code",
        "colab": {}
      },
      "source": [
        "d_model.summary(), g_model.summary(), gan_model.summary()"
      ],
      "execution_count": null,
      "outputs": []
    },
    {
      "cell_type": "code",
      "metadata": {
        "id": "WfBbI9NjdJmy",
        "colab_type": "code",
        "colab": {}
      },
      "source": [
        ""
      ],
      "execution_count": null,
      "outputs": []
    }
  ]
}