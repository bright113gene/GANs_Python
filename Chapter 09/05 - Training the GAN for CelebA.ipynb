{
  "nbformat": 4,
  "nbformat_minor": 0,
  "metadata": {
    "kernelspec": {
      "display_name": "Python 3",
      "language": "python",
      "name": "python3"
    },
    "language_info": {
      "codemirror_mode": {
        "name": "ipython",
        "version": 3
      },
      "file_extension": ".py",
      "mimetype": "text/x-python",
      "name": "python",
      "nbconvert_exporter": "python",
      "pygments_lexer": "ipython3",
      "version": "3.7.0"
    },
    "colab": {
      "name": "05 - Training the GAN for CelebA.ipynb",
      "provenance": [],
      "toc_visible": true
    },
    "accelerator": "GPU"
  },
  "cells": [
    {
      "cell_type": "markdown",
      "metadata": {
        "id": "P_yjX0AkCiuF",
        "colab_type": "text"
      },
      "source": [
        "## Loading the data"
      ]
    },
    {
      "cell_type": "code",
      "metadata": {
        "id": "JPauqzIwBXam",
        "colab_type": "code",
        "colab": {
          "base_uri": "https://localhost:8080/",
          "height": 54
        },
        "outputId": "a32e744a-e9e6-4aba-ddd7-f0497cde3a40"
      },
      "source": [
        "\"\"\"\n",
        "!wget https://s3-us-west-1.amazonaws.com/udacity-dlnfd/datasets/celeba.zip\n",
        "import zipfile, os\n",
        "with zipfile.ZipFile(os.getcwd() + '/celeba.zip', 'r') as zip_ref:\n",
        "  zip_ref.extractall(os.getcwd()+'/data_faces')\n",
        "\"\"\""
      ],
      "execution_count": 1,
      "outputs": [
        {
          "output_type": "execute_result",
          "data": {
            "text/plain": [
              "\"\\n!wget https://s3-us-west-1.amazonaws.com/udacity-dlnfd/datasets/celeba.zip\\nimport zipfile, os\\nwith zipfile.ZipFile(os.getcwd() + '/celeba.zip', 'r') as zip_ref:\\n  zip_ref.extractall(os.getcwd()+'/data_faces')\\n\""
            ]
          },
          "metadata": {
            "tags": []
          },
          "execution_count": 1
        }
      ]
    },
    {
      "cell_type": "markdown",
      "metadata": {
        "id": "YQuAFD8HBiOm",
        "colab_type": "text"
      },
      "source": [
        "# Importing the libraries"
      ]
    },
    {
      "cell_type": "code",
      "metadata": {
        "id": "9qGawzGj_KWj",
        "colab_type": "code",
        "colab": {
          "base_uri": "https://localhost:8080/",
          "height": 34
        },
        "outputId": "a1eaebac-249b-429c-d20e-3d6bc090a972"
      },
      "source": [
        "import keras\n",
        "import numpy as np\n",
        "import matplotlib.pyplot as plt\n",
        "import os"
      ],
      "execution_count": 2,
      "outputs": [
        {
          "output_type": "stream",
          "text": [
            "Using TensorFlow backend.\n"
          ],
          "name": "stderr"
        }
      ]
    },
    {
      "cell_type": "markdown",
      "metadata": {
        "id": "3T50N2FHBkqW",
        "colab_type": "text"
      },
      "source": [
        "## Defining the GAN"
      ]
    },
    {
      "cell_type": "code",
      "metadata": {
        "id": "yGaJfOYb_Nh_",
        "colab_type": "code",
        "colab": {}
      },
      "source": [
        "def define_GAN(g_model, d_model):\n",
        "    d_model.trainable = False\n",
        "    model = keras.models.Sequential()\n",
        "    model.add(g_model)\n",
        "    model.add(d_model)\n",
        "    opt = keras.optimizers.adam(learning_rate= 0.0002,\n",
        "                                beta_1= 0.5)\n",
        "    model.compile(loss= 'binary_crossentropy', optimizer= opt)\n",
        "    return model"
      ],
      "execution_count": 3,
      "outputs": []
    },
    {
      "cell_type": "markdown",
      "metadata": {
        "id": "RnzBD8mpBmtH",
        "colab_type": "text"
      },
      "source": [
        "## Defining the Discriminator"
      ]
    },
    {
      "cell_type": "code",
      "metadata": {
        "id": "rQyGjaNi_SkC",
        "colab_type": "code",
        "colab": {}
      },
      "source": [
        "def define_discriminator(input_shape= (96,80,3)):\n",
        "    model = keras.models.Sequential()\n",
        "    \n",
        "    model.add(keras.layers.Conv2D(filters= 128,\n",
        "                                  kernel_size= (3,3),\n",
        "                                  padding= 'same',\n",
        "                                  input_shape= input_shape))\n",
        "    model.add(keras.layers.LeakyReLU(0.2))\n",
        "    model.add(keras.layers.Dropout(0.4))\n",
        "\n",
        "    # 96 * 80 * 3\n",
        "    model.add(keras.layers.Conv2D(filters= 128,\n",
        "                                  kernel_size= (3,3),\n",
        "                                  strides= (2,2),\n",
        "                                  padding= 'same'))\n",
        "    model.add(keras.layers.LeakyReLU(0.2))\n",
        "    model.add(keras.layers.Dropout(0.4))\n",
        "    \n",
        "    # 48 * 40 * 3\n",
        "    model.add(keras.layers.Conv2D(filters= 128,\n",
        "                                  kernel_size= (4,4),\n",
        "                                  strides= (2,2),\n",
        "                                  padding= 'same'))\n",
        "    model.add(keras.layers.LeakyReLU(0.2))\n",
        "    model.add(keras.layers.Dropout(0.4))\n",
        "    \n",
        "    # 24 * 20 * 3\n",
        "    model.add(keras.layers.Conv2D(filters= 128,\n",
        "                                  kernel_size= (4,4),\n",
        "                                  strides= (2,2),\n",
        "                                  padding= 'same'))\n",
        "    model.add(keras.layers.LeakyReLU(0.2))\n",
        "    model.add(keras.layers.Dropout(0.4))\n",
        "    \n",
        "    # 12 * 10 * 3\n",
        "\n",
        "    model.add(keras.layers.Flatten())\n",
        "    model.add(keras.layers.Dropout(0.4))\n",
        "    model.add(keras.layers.Dense(units= 1,\n",
        "                                 activation= 'sigmoid'))\n",
        "    opt = keras.optimizers.adam(learning_rate= 0.0002, beta_1= 0.5)\n",
        "    model.compile(loss= 'binary_crossentropy', optimizer= opt, metrics= ['accuracy'])\n",
        "    \n",
        "    return model"
      ],
      "execution_count": 4,
      "outputs": []
    },
    {
      "cell_type": "markdown",
      "metadata": {
        "id": "5JEzmdqCBpPv",
        "colab_type": "text"
      },
      "source": [
        "## Defining the Generator"
      ]
    },
    {
      "cell_type": "code",
      "metadata": {
        "id": "Iqn-f6gj__KY",
        "colab_type": "code",
        "colab": {}
      },
      "source": [
        "def define_generator(latent_dim):\n",
        "    model = keras.models.Sequential()\n",
        "\n",
        "    model.add(keras.layers.Dense(units= 256 * 6 * 5, input_dim= latent_dim))\n",
        "    model.add(keras.layers.LeakyReLU(0.2))\n",
        "    model.add(keras.layers.Reshape((6, 5, 256)))\n",
        "    # 6 * 5\n",
        "    model.add(keras.layers.Conv2DTranspose(filters= 256,\n",
        "                                           kernel_size= (4,4),\n",
        "                                           padding= 'same',\n",
        "                                           strides= (2,2)))\n",
        "    model.add(keras.layers.LeakyReLU(0.2))\n",
        "    # 12 * 10\n",
        "    model.add(keras.layers.Conv2DTranspose(filters= 128,\n",
        "                                           kernel_size= (4,4),\n",
        "                                           padding= 'same',\n",
        "                                           strides= (2,2)))\n",
        "    model.add(keras.layers.LeakyReLU(0.2))\n",
        "    # 24 * 20\n",
        "    model.add(keras.layers.Conv2DTranspose(filters= 128,\n",
        "                                           kernel_size= (4,4),\n",
        "                                           padding= 'same',\n",
        "                                           strides= (2,2)))\n",
        "    model.add(keras.layers.LeakyReLU(0.2))\n",
        "    # 48 * 40\n",
        "    model.add(keras.layers.Conv2DTranspose(filters= 128,\n",
        "                                           kernel_size= (4,4),\n",
        "                                           padding= 'same',\n",
        "                                           strides= (2,2)))\n",
        "    model.add(keras.layers.LeakyReLU(0.2))\n",
        "    # 96 * 80\n",
        "    \n",
        "    # Ready for colorization\n",
        "    model.add(keras.layers.Conv2D(filters= 3,\n",
        "                                  kernel_size= (3,3),\n",
        "                                  padding= 'same',\n",
        "                                  activation= 'tanh'))\n",
        "    \n",
        "    return model"
      ],
      "execution_count": 5,
      "outputs": []
    },
    {
      "cell_type": "markdown",
      "metadata": {
        "id": "jxFzu7wfBrwX",
        "colab_type": "text"
      },
      "source": [
        "## Generating the Fake samples"
      ]
    },
    {
      "cell_type": "code",
      "metadata": {
        "id": "IYunoMGTBc9_",
        "colab_type": "code",
        "colab": {}
      },
      "source": [
        "def generate_latent_points(latent_dim, n_samples):\n",
        "    X = np.random.randn(latent_dim * n_samples)\n",
        "    X = X.reshape((n_samples, latent_dim))\n",
        "    return X"
      ],
      "execution_count": 6,
      "outputs": []
    },
    {
      "cell_type": "code",
      "metadata": {
        "id": "Xgx3HtRsBeDO",
        "colab_type": "code",
        "colab": {}
      },
      "source": [
        "def generate_fake_sample(g_model, latent_dim, n_samples):\n",
        "    x_input = generate_latent_points(latent_dim= latent_dim,\n",
        "                                     n_samples= n_samples)\n",
        "    \n",
        "    X = g_model.predict(x_input)\n",
        "    y = np.zeros((n_samples, 1))\n",
        "    return X, y"
      ],
      "execution_count": 7,
      "outputs": []
    },
    {
      "cell_type": "markdown",
      "metadata": {
        "id": "xxSpoq-kCAM0",
        "colab_type": "text"
      },
      "source": [
        "## Generating the Real samples"
      ]
    },
    {
      "cell_type": "code",
      "metadata": {
        "id": "VViqdA06B_3d",
        "colab_type": "code",
        "colab": {}
      },
      "source": [
        "def generate_real_sample(train_it):\n",
        "    X, _ = train_it.next()\n",
        "    X = X[:, 6:102,4:84,:].astype('float32')\n",
        "    X = (X - 127.5) / 127.5\n",
        "    y = np.ones((X.shape[0], 1))\n",
        "    # y = 0.9 * np.ones((n_samples, 1)) + 0.2 * np.random.rand(n_samples).reshape((n_samples, 1))\n",
        "    return X, y"
      ],
      "execution_count": 8,
      "outputs": []
    },
    {
      "cell_type": "markdown",
      "metadata": {
        "id": "pK3agqMxBx10",
        "colab_type": "text"
      },
      "source": [
        "## Saving the Plot and summarizing"
      ]
    },
    {
      "cell_type": "code",
      "metadata": {
        "id": "6-dxON9lAv2a",
        "colab_type": "code",
        "colab": {}
      },
      "source": [
        "def save_plot(x_input, epoch, n=5):\n",
        "    x_input = (x_input + 1.0) / 2.0\n",
        "    filename = f'generated_{epoch + 1}.png'\n",
        "    for i in range(n*n):\n",
        "        plt.subplot(n, n, i+1)\n",
        "        plt.imshow(x_input[i,:,:,:])\n",
        "        plt.axis('off')\n",
        "    plt.savefig(filename)\n",
        "    plt.close()"
      ],
      "execution_count": 9,
      "outputs": []
    },
    {
      "cell_type": "code",
      "metadata": {
        "id": "8SXygfc8BCt1",
        "colab_type": "code",
        "colab": {}
      },
      "source": [
        "def summarize_the_model(g_model, d_model, epoch, latent_dim, n_samples, train_iter):\n",
        "    X_real, y_real = generate_real_sample(train_it= train_iter)\n",
        "    X_fake, y_fake = generate_fake_sample(g_model= g_model,\n",
        "                                          latent_dim= latent_dim,\n",
        "                                          n_samples= n_samples)\n",
        "    print(f'Accuracy on real data: {d_model.evaluate(X_real, y_real, verbose= 0)}')\n",
        "    print(f'Accuracy on fake data: {d_model.evaluate(X_fake, y_fake, verbose= 0)}')\n",
        "    filename_g = f'drive/My Drive/CGAN/g_model_e_{epoch + 1:02}.h5'\n",
        "    filename_d = f'drive/My Drive/CGAN/d_model_e_{epoch + 1:02}.h5'\n",
        "    \n",
        "    save_plot(x_input= X_fake,\n",
        "              epoch= epoch)\n",
        "\n",
        "    g_model.save(filename_g)\n",
        "    d_model.save(filename_d)"
      ],
      "execution_count": 10,
      "outputs": []
    },
    {
      "cell_type": "markdown",
      "metadata": {
        "id": "kthsHFTkB0WM",
        "colab_type": "text"
      },
      "source": [
        "# Function for training the GAN"
      ]
    },
    {
      "cell_type": "code",
      "metadata": {
        "id": "omaXYPk9BD_n",
        "colab_type": "code",
        "colab": {}
      },
      "source": [
        "def train_GAN(gan_model, g_model, d_model, dataset_len, latent_dim, train_iter, iters= 100, batch_size= 256, last_epoch= None):\n",
        "    half_batch = int(batch_size / 2)\n",
        "    batch_per_epoch = int(dataset_len / batch_size)\n",
        "    for i in range(iters):\n",
        "        for j in range(batch_per_epoch):\n",
        "            X_real, y_real = generate_real_sample(train_it= train_it)\n",
        "            X_fake, y_fake = generate_fake_sample(g_model= g_model,\n",
        "                                                  latent_dim= latent_dim,\n",
        "                                                  n_samples= half_batch)\n",
        "            X, y = np.vstack((X_real, X_fake)), np.vstack((y_real, y_fake))\n",
        "            dloss = d_model.train_on_batch(X, y)\n",
        "            x_gan = generate_latent_points(latent_dim= latent_dim,\n",
        "                                             n_samples= batch_size)\n",
        "            y_gan = np.ones((batch_size, 1))\n",
        "            gloss = gan_model.train_on_batch(x_gan, y_gan)\n",
        "            print(f'> Epoch: {i+1}, {j+1}/{batch_per_epoch}, dloss: {dloss[0]:5f}, gloss: {gloss:5f}')\n",
        "        # After each epoch\n",
        "        epoch_number = 0\n",
        "        if last_epoch is not None:\n",
        "          epoch_number = i + int(last_epoch)\n",
        "        else:\n",
        "          epoch_number = i\n",
        "\n",
        "        summarize_the_model(g_model= g_model,\n",
        "                            d_model= d_model,\n",
        "                            epoch= epoch_number,\n",
        "                            latent_dim= latent_dim,\n",
        "                            n_samples= batch_size,\n",
        "                            train_iter= train_it)"
      ],
      "execution_count": 11,
      "outputs": []
    },
    {
      "cell_type": "code",
      "metadata": {
        "id": "Ehrm8-8a9DD3",
        "colab_type": "code",
        "colab": {}
      },
      "source": [
        "def load_models(latent_dim, last_epoch= None):\n",
        "  if last_epoch is not None:\n",
        "    g_model = keras.models.load_model(f'drive/My Drive/CGAN/g_model_e_{last_epoch}.h5')\n",
        "    d_model = keras.models.load_model(f'drive/My Drive/CGAN/d_model_e_{last_epoch}.h5')\n",
        "    gan_model = define_GAN(g_model=g_model,\n",
        "                          d_model= d_model)\n",
        "\n",
        "  else:\n",
        "    g_model = define_generator(latent_dim= latent_dim)\n",
        "    d_model = define_discriminator()\n",
        "    gan_model = define_GAN(g_model=g_model,\n",
        "                          d_model= d_model)\n",
        "    \n",
        "  return g_model, d_model, gan_model"
      ],
      "execution_count": 14,
      "outputs": []
    },
    {
      "cell_type": "markdown",
      "metadata": {
        "id": "ISoTcPvkCevl",
        "colab_type": "text"
      },
      "source": [
        "## Training the Model"
      ]
    },
    {
      "cell_type": "code",
      "metadata": {
        "id": "bL1Z-D3VCh8p",
        "colab_type": "code",
        "colab": {
          "base_uri": "https://localhost:8080/",
          "height": 666
        },
        "outputId": "f36eb26c-46c3-4e86-e971-e253fb7a4a7a"
      },
      "source": [
        "latent_dim = 200\n",
        "batch_size = 128\n",
        "last_epoch = None\n",
        "\n",
        "g_model, d_model, gan_model = load_models(latent_dim,\n",
        "                                          last_epoch= last_epoch)\n",
        "\n",
        "datagen = keras.preprocessing.image.ImageDataGenerator()\n",
        "path = os.getcwd() + '/data_faces'\n",
        "train_it = datagen.flow_from_directory(path,\n",
        "                                       batch_size= int(batch_size/2),\n",
        "                                       target_size= (218, 178))\n",
        "\n",
        "train_GAN(gan_model= gan_model,\n",
        "          g_model= g_model,\n",
        "          d_model= d_model,\n",
        "          dataset_len= 202599,\n",
        "          latent_dim= latent_dim,\n",
        "          train_iter= train_it,\n",
        "          last_epoch= last_epoch)"
      ],
      "execution_count": 16,
      "outputs": [
        {
          "output_type": "stream",
          "text": [
            "Found 202599 images belonging to 1 classes.\n"
          ],
          "name": "stdout"
        },
        {
          "output_type": "stream",
          "text": [
            "/usr/local/lib/python3.6/dist-packages/keras/engine/training.py:297: UserWarning: Discrepancy between trainable weights and collected trainable weights, did you set `model.trainable` without calling `model.compile` after ?\n",
            "  'Discrepancy between trainable weights and collected trainable'\n"
          ],
          "name": "stderr"
        },
        {
          "output_type": "stream",
          "text": [
            "> Epoch: 1, 1/791, dloss: 0.689206, gloss: 0.693548\n",
            "> Epoch: 1, 2/791, dloss: 0.657763, gloss: 0.693348\n",
            "> Epoch: 1, 3/791, dloss: 0.618918, gloss: 0.692171\n",
            "> Epoch: 1, 4/791, dloss: 0.574328, gloss: 0.687195\n",
            "> Epoch: 1, 5/791, dloss: 0.537418, gloss: 0.671367\n",
            "Accuracy on real data: [0.11532561108469963, 1.0]\n",
            "Accuracy on fake data: [0.7429277300834656, 0.0]\n",
            "> Epoch: 2, 1/791, dloss: 0.540476, gloss: 0.646422\n",
            "> Epoch: 2, 2/791, dloss: 0.578953, gloss: 0.644292\n",
            "> Epoch: 2, 3/791, dloss: 0.572238, gloss: 0.690982\n",
            "> Epoch: 2, 4/791, dloss: 0.492296, gloss: 0.797593\n",
            "> Epoch: 2, 5/791, dloss: 0.429512, gloss: 0.918510\n",
            "Accuracy on real data: [0.05691895820200443, 1.0]\n",
            "Accuracy on fake data: [0.5748441889882088, 1.0]\n",
            "> Epoch: 3, 1/791, dloss: 0.412559, gloss: 0.956327\n"
          ],
          "name": "stdout"
        },
        {
          "output_type": "error",
          "ename": "KeyboardInterrupt",
          "evalue": "ignored",
          "traceback": [
            "\u001b[0;31m---------------------------------------------------------------------------\u001b[0m",
            "\u001b[0;31mKeyboardInterrupt\u001b[0m                         Traceback (most recent call last)",
            "\u001b[0;32m<ipython-input-16-c0c591e37449>\u001b[0m in \u001b[0;36m<module>\u001b[0;34m()\u001b[0m\n\u001b[1;32m     18\u001b[0m           \u001b[0mlatent_dim\u001b[0m\u001b[0;34m=\u001b[0m \u001b[0mlatent_dim\u001b[0m\u001b[0;34m,\u001b[0m\u001b[0;34m\u001b[0m\u001b[0;34m\u001b[0m\u001b[0m\n\u001b[1;32m     19\u001b[0m           \u001b[0mtrain_iter\u001b[0m\u001b[0;34m=\u001b[0m \u001b[0mtrain_it\u001b[0m\u001b[0;34m,\u001b[0m\u001b[0;34m\u001b[0m\u001b[0;34m\u001b[0m\u001b[0m\n\u001b[0;32m---> 20\u001b[0;31m           last_epoch= last_epoch)\n\u001b[0m",
            "\u001b[0;32m<ipython-input-11-655159853ec1>\u001b[0m in \u001b[0;36mtrain_GAN\u001b[0;34m(gan_model, g_model, d_model, dataset_len, latent_dim, train_iter, iters, batch_size, last_epoch)\u001b[0m\n\u001b[1;32m     13\u001b[0m                                              n_samples= batch_size)\n\u001b[1;32m     14\u001b[0m             \u001b[0my_gan\u001b[0m \u001b[0;34m=\u001b[0m \u001b[0mnp\u001b[0m\u001b[0;34m.\u001b[0m\u001b[0mones\u001b[0m\u001b[0;34m(\u001b[0m\u001b[0;34m(\u001b[0m\u001b[0mbatch_size\u001b[0m\u001b[0;34m,\u001b[0m \u001b[0;36m1\u001b[0m\u001b[0;34m)\u001b[0m\u001b[0;34m)\u001b[0m\u001b[0;34m\u001b[0m\u001b[0;34m\u001b[0m\u001b[0m\n\u001b[0;32m---> 15\u001b[0;31m             \u001b[0mgloss\u001b[0m \u001b[0;34m=\u001b[0m \u001b[0mgan_model\u001b[0m\u001b[0;34m.\u001b[0m\u001b[0mtrain_on_batch\u001b[0m\u001b[0;34m(\u001b[0m\u001b[0mx_gan\u001b[0m\u001b[0;34m,\u001b[0m \u001b[0my_gan\u001b[0m\u001b[0;34m)\u001b[0m\u001b[0;34m\u001b[0m\u001b[0;34m\u001b[0m\u001b[0m\n\u001b[0m\u001b[1;32m     16\u001b[0m             \u001b[0mprint\u001b[0m\u001b[0;34m(\u001b[0m\u001b[0;34mf'> Epoch: {i+1}, {j+1}/{batch_per_epoch}, dloss: {dloss[0]:5f}, gloss: {gloss:5f}'\u001b[0m\u001b[0;34m)\u001b[0m\u001b[0;34m\u001b[0m\u001b[0;34m\u001b[0m\u001b[0m\n\u001b[1;32m     17\u001b[0m         \u001b[0;31m# After each epoch\u001b[0m\u001b[0;34m\u001b[0m\u001b[0;34m\u001b[0m\u001b[0;34m\u001b[0m\u001b[0m\n",
            "\u001b[0;32m/usr/local/lib/python3.6/dist-packages/keras/engine/training.py\u001b[0m in \u001b[0;36mtrain_on_batch\u001b[0;34m(self, x, y, sample_weight, class_weight, reset_metrics)\u001b[0m\n\u001b[1;32m   1512\u001b[0m             \u001b[0mins\u001b[0m \u001b[0;34m=\u001b[0m \u001b[0mx\u001b[0m \u001b[0;34m+\u001b[0m \u001b[0my\u001b[0m \u001b[0;34m+\u001b[0m \u001b[0msample_weights\u001b[0m\u001b[0;34m\u001b[0m\u001b[0;34m\u001b[0m\u001b[0m\n\u001b[1;32m   1513\u001b[0m         \u001b[0mself\u001b[0m\u001b[0;34m.\u001b[0m\u001b[0m_make_train_function\u001b[0m\u001b[0;34m(\u001b[0m\u001b[0;34m)\u001b[0m\u001b[0;34m\u001b[0m\u001b[0;34m\u001b[0m\u001b[0m\n\u001b[0;32m-> 1514\u001b[0;31m         \u001b[0moutputs\u001b[0m \u001b[0;34m=\u001b[0m \u001b[0mself\u001b[0m\u001b[0;34m.\u001b[0m\u001b[0mtrain_function\u001b[0m\u001b[0;34m(\u001b[0m\u001b[0mins\u001b[0m\u001b[0;34m)\u001b[0m\u001b[0;34m\u001b[0m\u001b[0;34m\u001b[0m\u001b[0m\n\u001b[0m\u001b[1;32m   1515\u001b[0m \u001b[0;34m\u001b[0m\u001b[0m\n\u001b[1;32m   1516\u001b[0m         \u001b[0;32mif\u001b[0m \u001b[0mreset_metrics\u001b[0m\u001b[0;34m:\u001b[0m\u001b[0;34m\u001b[0m\u001b[0;34m\u001b[0m\u001b[0m\n",
            "\u001b[0;32m/usr/local/lib/python3.6/dist-packages/tensorflow/python/keras/backend.py\u001b[0m in \u001b[0;36m__call__\u001b[0;34m(self, inputs)\u001b[0m\n\u001b[1;32m   3798\u001b[0m     return nest.pack_sequence_as(\n\u001b[1;32m   3799\u001b[0m         \u001b[0mself\u001b[0m\u001b[0;34m.\u001b[0m\u001b[0m_outputs_structure\u001b[0m\u001b[0;34m,\u001b[0m\u001b[0;34m\u001b[0m\u001b[0;34m\u001b[0m\u001b[0m\n\u001b[0;32m-> 3800\u001b[0;31m         \u001b[0;34m[\u001b[0m\u001b[0mx\u001b[0m\u001b[0;34m.\u001b[0m\u001b[0m_numpy\u001b[0m\u001b[0;34m(\u001b[0m\u001b[0;34m)\u001b[0m \u001b[0;32mfor\u001b[0m \u001b[0mx\u001b[0m \u001b[0;32min\u001b[0m \u001b[0moutputs\u001b[0m\u001b[0;34m]\u001b[0m\u001b[0;34m,\u001b[0m  \u001b[0;31m# pylint: disable=protected-access\u001b[0m\u001b[0;34m\u001b[0m\u001b[0;34m\u001b[0m\u001b[0m\n\u001b[0m\u001b[1;32m   3801\u001b[0m         expand_composites=True)\n\u001b[1;32m   3802\u001b[0m \u001b[0;34m\u001b[0m\u001b[0m\n",
            "\u001b[0;32m/usr/local/lib/python3.6/dist-packages/tensorflow/python/keras/backend.py\u001b[0m in \u001b[0;36m<listcomp>\u001b[0;34m(.0)\u001b[0m\n\u001b[1;32m   3798\u001b[0m     return nest.pack_sequence_as(\n\u001b[1;32m   3799\u001b[0m         \u001b[0mself\u001b[0m\u001b[0;34m.\u001b[0m\u001b[0m_outputs_structure\u001b[0m\u001b[0;34m,\u001b[0m\u001b[0;34m\u001b[0m\u001b[0;34m\u001b[0m\u001b[0m\n\u001b[0;32m-> 3800\u001b[0;31m         \u001b[0;34m[\u001b[0m\u001b[0mx\u001b[0m\u001b[0;34m.\u001b[0m\u001b[0m_numpy\u001b[0m\u001b[0;34m(\u001b[0m\u001b[0;34m)\u001b[0m \u001b[0;32mfor\u001b[0m \u001b[0mx\u001b[0m \u001b[0;32min\u001b[0m \u001b[0moutputs\u001b[0m\u001b[0;34m]\u001b[0m\u001b[0;34m,\u001b[0m  \u001b[0;31m# pylint: disable=protected-access\u001b[0m\u001b[0;34m\u001b[0m\u001b[0;34m\u001b[0m\u001b[0m\n\u001b[0m\u001b[1;32m   3801\u001b[0m         expand_composites=True)\n\u001b[1;32m   3802\u001b[0m \u001b[0;34m\u001b[0m\u001b[0m\n",
            "\u001b[0;32m/usr/local/lib/python3.6/dist-packages/tensorflow/python/framework/ops.py\u001b[0m in \u001b[0;36m_numpy\u001b[0;34m(self)\u001b[0m\n\u001b[1;32m    925\u001b[0m     \u001b[0;31m# pylint: disable=protected-access\u001b[0m\u001b[0;34m\u001b[0m\u001b[0;34m\u001b[0m\u001b[0;34m\u001b[0m\u001b[0m\n\u001b[1;32m    926\u001b[0m     \u001b[0;32mtry\u001b[0m\u001b[0;34m:\u001b[0m\u001b[0;34m\u001b[0m\u001b[0;34m\u001b[0m\u001b[0m\n\u001b[0;32m--> 927\u001b[0;31m       \u001b[0;32mreturn\u001b[0m \u001b[0mself\u001b[0m\u001b[0;34m.\u001b[0m\u001b[0m_numpy_internal\u001b[0m\u001b[0;34m(\u001b[0m\u001b[0;34m)\u001b[0m\u001b[0;34m\u001b[0m\u001b[0;34m\u001b[0m\u001b[0m\n\u001b[0m\u001b[1;32m    928\u001b[0m     \u001b[0;32mexcept\u001b[0m \u001b[0mcore\u001b[0m\u001b[0;34m.\u001b[0m\u001b[0m_NotOkStatusException\u001b[0m \u001b[0;32mas\u001b[0m \u001b[0me\u001b[0m\u001b[0;34m:\u001b[0m\u001b[0;34m\u001b[0m\u001b[0;34m\u001b[0m\u001b[0m\n\u001b[1;32m    929\u001b[0m       \u001b[0msix\u001b[0m\u001b[0;34m.\u001b[0m\u001b[0mraise_from\u001b[0m\u001b[0;34m(\u001b[0m\u001b[0mcore\u001b[0m\u001b[0;34m.\u001b[0m\u001b[0m_status_to_exception\u001b[0m\u001b[0;34m(\u001b[0m\u001b[0me\u001b[0m\u001b[0;34m.\u001b[0m\u001b[0mcode\u001b[0m\u001b[0;34m,\u001b[0m \u001b[0me\u001b[0m\u001b[0;34m.\u001b[0m\u001b[0mmessage\u001b[0m\u001b[0;34m)\u001b[0m\u001b[0;34m,\u001b[0m \u001b[0;32mNone\u001b[0m\u001b[0;34m)\u001b[0m\u001b[0;34m\u001b[0m\u001b[0;34m\u001b[0m\u001b[0m\n",
            "\u001b[0;31mKeyboardInterrupt\u001b[0m: "
          ]
        }
      ]
    },
    {
      "cell_type": "code",
      "metadata": {
        "id": "1-74HlgPlUo-",
        "colab_type": "code",
        "colab": {}
      },
      "source": [
        "!nvidia-smi"
      ],
      "execution_count": null,
      "outputs": []
    },
    {
      "cell_type": "code",
      "metadata": {
        "id": "MIbOBJuR6W_d",
        "colab_type": "code",
        "colab": {}
      },
      "source": [
        "from google.colab import drive\n",
        "drive.mount('/content/drive')"
      ],
      "execution_count": null,
      "outputs": []
    }
  ]
}