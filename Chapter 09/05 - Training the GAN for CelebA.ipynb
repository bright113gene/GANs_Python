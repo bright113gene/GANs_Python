{
  "nbformat": 4,
  "nbformat_minor": 0,
  "metadata": {
    "kernelspec": {
      "display_name": "Python 3",
      "language": "python",
      "name": "python3"
    },
    "language_info": {
      "codemirror_mode": {
        "name": "ipython",
        "version": 3
      },
      "file_extension": ".py",
      "mimetype": "text/x-python",
      "name": "python",
      "nbconvert_exporter": "python",
      "pygments_lexer": "ipython3",
      "version": "3.7.0"
    },
    "colab": {
      "name": "05 - Training the GAN for CelebA.ipynb",
      "provenance": [],
      "toc_visible": true
    },
    "accelerator": "GPU"
  },
  "cells": [
    {
      "cell_type": "markdown",
      "metadata": {
        "id": "P_yjX0AkCiuF",
        "colab_type": "text"
      },
      "source": [
        "## Loading the data"
      ]
    },
    {
      "cell_type": "code",
      "metadata": {
        "id": "JPauqzIwBXam",
        "colab_type": "code",
        "colab": {
          "base_uri": "https://localhost:8080/",
          "height": 54
        },
        "outputId": "d8c01047-ac58-40b3-8ed5-cf2b537120ed"
      },
      "source": [
        "\"\"\"\n",
        "!wget https://s3-us-west-1.amazonaws.com/udacity-dlnfd/datasets/celeba.zip\n",
        "import zipfile, os\n",
        "with zipfile.ZipFile(os.getcwd() + '/celeba.zip', 'r') as zip_ref:\n",
        "  zip_ref.extractall(os.getcwd()+'/data_faces')\n",
        "\"\"\""
      ],
      "execution_count": 1,
      "outputs": [
        {
          "output_type": "execute_result",
          "data": {
            "text/plain": [
              "\"\\n!wget https://s3-us-west-1.amazonaws.com/udacity-dlnfd/datasets/celeba.zip\\nimport zipfile, os\\nwith zipfile.ZipFile(os.getcwd() + '/celeba.zip', 'r') as zip_ref:\\n  zip_ref.extractall(os.getcwd()+'/data_faces')\\n\""
            ]
          },
          "metadata": {
            "tags": []
          },
          "execution_count": 1
        }
      ]
    },
    {
      "cell_type": "markdown",
      "metadata": {
        "id": "YQuAFD8HBiOm",
        "colab_type": "text"
      },
      "source": [
        "# Importing the libraries"
      ]
    },
    {
      "cell_type": "code",
      "metadata": {
        "id": "9qGawzGj_KWj",
        "colab_type": "code",
        "colab": {
          "base_uri": "https://localhost:8080/",
          "height": 34
        },
        "outputId": "b01cef51-b092-48f2-860b-7d1072c8f26b"
      },
      "source": [
        "import keras\n",
        "import numpy as np\n",
        "import matplotlib.pyplot as plt\n",
        "import os"
      ],
      "execution_count": 2,
      "outputs": [
        {
          "output_type": "stream",
          "text": [
            "Using TensorFlow backend.\n"
          ],
          "name": "stderr"
        }
      ]
    },
    {
      "cell_type": "markdown",
      "metadata": {
        "id": "3T50N2FHBkqW",
        "colab_type": "text"
      },
      "source": [
        "## Defining the GAN"
      ]
    },
    {
      "cell_type": "code",
      "metadata": {
        "id": "yGaJfOYb_Nh_",
        "colab_type": "code",
        "colab": {}
      },
      "source": [
        "def define_GAN(g_model, d_model):\n",
        "    d_model.trainable = False\n",
        "    model = keras.models.Sequential()\n",
        "    model.add(g_model)\n",
        "    model.add(d_model)\n",
        "    opt = keras.optimizers.adam(learning_rate= 0.0002,\n",
        "                                beta_1= 0.5)\n",
        "    model.compile(loss= 'binary_crossentropy', optimizer= opt)\n",
        "    return model"
      ],
      "execution_count": 3,
      "outputs": []
    },
    {
      "cell_type": "markdown",
      "metadata": {
        "id": "RnzBD8mpBmtH",
        "colab_type": "text"
      },
      "source": [
        "## Defining the Discriminator"
      ]
    },
    {
      "cell_type": "code",
      "metadata": {
        "id": "rQyGjaNi_SkC",
        "colab_type": "code",
        "colab": {}
      },
      "source": [
        "def define_discriminator(input_shape= (96,80,3)):\n",
        "    model = keras.models.Sequential()\n",
        "    \n",
        "    model.add(keras.layers.Conv2D(filters= 128,\n",
        "                                  kernel_size= (3,3),\n",
        "                                  padding= 'same',\n",
        "                                  input_shape= input_shape))\n",
        "    model.add(keras.layers.LeakyReLU(0.2))\n",
        "    model.add(keras.layers.Dropout(0.4))\n",
        "\n",
        "    # 96 * 80 * 3\n",
        "    model.add(keras.layers.Conv2D(filters= 128,\n",
        "                                  kernel_size= (3,3),\n",
        "                                  strides= (2,2),\n",
        "                                  padding= 'same'))\n",
        "    model.add(keras.layers.LeakyReLU(0.2))\n",
        "    model.add(keras.layers.Dropout(0.4))\n",
        "    \n",
        "    # 48 * 40 * 3\n",
        "    model.add(keras.layers.Conv2D(filters= 128,\n",
        "                                  kernel_size= (4,4),\n",
        "                                  strides= (2,2),\n",
        "                                  padding= 'same'))\n",
        "    model.add(keras.layers.LeakyReLU(0.2))\n",
        "    model.add(keras.layers.Dropout(0.4))\n",
        "    \n",
        "    # 24 * 20 * 3\n",
        "    model.add(keras.layers.Conv2D(filters= 128,\n",
        "                                  kernel_size= (4,4),\n",
        "                                  strides= (2,2),\n",
        "                                  padding= 'same'))\n",
        "    model.add(keras.layers.LeakyReLU(0.2))\n",
        "    model.add(keras.layers.Dropout(0.4))\n",
        "    \n",
        "    # 12 * 10 * 3\n",
        "\n",
        "    model.add(keras.layers.Flatten())\n",
        "    model.add(keras.layers.Dropout(0.4))\n",
        "    model.add(keras.layers.Dense(units= 1,\n",
        "                                 activation= 'sigmoid'))\n",
        "    opt = keras.optimizers.adam(learning_rate= 0.0002, beta_1= 0.5)\n",
        "    model.compile(loss= 'binary_crossentropy', optimizer= opt, metrics= ['accuracy'])\n",
        "    \n",
        "    return model"
      ],
      "execution_count": 4,
      "outputs": []
    },
    {
      "cell_type": "markdown",
      "metadata": {
        "id": "5JEzmdqCBpPv",
        "colab_type": "text"
      },
      "source": [
        "## Defining the Generator"
      ]
    },
    {
      "cell_type": "code",
      "metadata": {
        "id": "Iqn-f6gj__KY",
        "colab_type": "code",
        "colab": {}
      },
      "source": [
        "def define_generator(latent_dim):\n",
        "    model = keras.models.Sequential()\n",
        "\n",
        "    model.add(keras.layers.Dense(units= 256 * 6 * 5, input_dim= latent_dim))\n",
        "    model.add(keras.layers.LeakyReLU(0.2))\n",
        "    model.add(keras.layers.Reshape((6, 5, 256)))\n",
        "    # 6 * 5\n",
        "    model.add(keras.layers.Conv2DTranspose(filters= 256,\n",
        "                                           kernel_size= (4,4),\n",
        "                                           padding= 'same',\n",
        "                                           strides= (2,2)))\n",
        "    model.add(keras.layers.LeakyReLU(0.2))\n",
        "    # 12 * 10\n",
        "    model.add(keras.layers.Conv2DTranspose(filters= 128,\n",
        "                                           kernel_size= (4,4),\n",
        "                                           padding= 'same',\n",
        "                                           strides= (2,2)))\n",
        "    model.add(keras.layers.LeakyReLU(0.2))\n",
        "    # 24 * 20\n",
        "    model.add(keras.layers.Conv2DTranspose(filters= 128,\n",
        "                                           kernel_size= (4,4),\n",
        "                                           padding= 'same',\n",
        "                                           strides= (2,2)))\n",
        "    model.add(keras.layers.LeakyReLU(0.2))\n",
        "    # 48 * 40\n",
        "    model.add(keras.layers.Conv2DTranspose(filters= 128,\n",
        "                                           kernel_size= (4,4),\n",
        "                                           padding= 'same',\n",
        "                                           strides= (2,2)))\n",
        "    model.add(keras.layers.LeakyReLU(0.2))\n",
        "    # 96 * 80\n",
        "    \n",
        "    # Ready for colorization\n",
        "    model.add(keras.layers.Conv2D(filters= 3,\n",
        "                                  kernel_size= (3,3),\n",
        "                                  padding= 'same',\n",
        "                                  activation= 'tanh'))\n",
        "    \n",
        "    return model"
      ],
      "execution_count": 5,
      "outputs": []
    },
    {
      "cell_type": "markdown",
      "metadata": {
        "id": "jxFzu7wfBrwX",
        "colab_type": "text"
      },
      "source": [
        "## Generating the Fake samples"
      ]
    },
    {
      "cell_type": "code",
      "metadata": {
        "id": "IYunoMGTBc9_",
        "colab_type": "code",
        "colab": {}
      },
      "source": [
        "def generate_latent_points(latent_dim, n_samples):\n",
        "    X = np.random.randn(latent_dim * n_samples)\n",
        "    X = X.reshape((n_samples, latent_dim))\n",
        "    return X"
      ],
      "execution_count": 6,
      "outputs": []
    },
    {
      "cell_type": "code",
      "metadata": {
        "id": "Xgx3HtRsBeDO",
        "colab_type": "code",
        "colab": {}
      },
      "source": [
        "def generate_fake_sample(g_model, latent_dim, n_samples):\n",
        "    x_input = generate_latent_points(latent_dim= latent_dim,\n",
        "                                     n_samples= n_samples)\n",
        "    \n",
        "    X = g_model.predict(x_input)\n",
        "    y = np.zeros((n_samples, 1))\n",
        "    return X, y"
      ],
      "execution_count": 7,
      "outputs": []
    },
    {
      "cell_type": "markdown",
      "metadata": {
        "id": "xxSpoq-kCAM0",
        "colab_type": "text"
      },
      "source": [
        "## Generating the Real samples"
      ]
    },
    {
      "cell_type": "code",
      "metadata": {
        "id": "VViqdA06B_3d",
        "colab_type": "code",
        "colab": {}
      },
      "source": [
        "def generate_real_sample(train_it):\n",
        "    X, _ = train_it.next()\n",
        "    X = X[:, 6:102,4:84,:].astype('float32')\n",
        "    X = (X - 127.5) / 127.5\n",
        "    y = np.ones((X.shape[0], 1))\n",
        "    # y = 0.9 * np.ones((n_samples, 1)) + 0.2 * np.random.rand(n_samples).reshape((n_samples, 1))\n",
        "    return X, y"
      ],
      "execution_count": 8,
      "outputs": []
    },
    {
      "cell_type": "markdown",
      "metadata": {
        "id": "pK3agqMxBx10",
        "colab_type": "text"
      },
      "source": [
        "## Saving the Plot and summarizing"
      ]
    },
    {
      "cell_type": "code",
      "metadata": {
        "id": "6-dxON9lAv2a",
        "colab_type": "code",
        "colab": {}
      },
      "source": [
        "def save_plot(x_input, epoch, n=5):\n",
        "    x_input = (x_input + 1.0) / 2.0\n",
        "    filename = f'generated_{epoch + 1}.png'\n",
        "    for i in range(n*n):\n",
        "        plt.subplot(n, n, i+1)\n",
        "        plt.imshow(x_input[i,:,:,:])\n",
        "        plt.axis('off')\n",
        "    plt.savefig(filename)\n",
        "    plt.close()"
      ],
      "execution_count": 9,
      "outputs": []
    },
    {
      "cell_type": "code",
      "metadata": {
        "id": "8SXygfc8BCt1",
        "colab_type": "code",
        "colab": {}
      },
      "source": [
        "def summarize_the_model(g_model, d_model, epoch, latent_dim, n_samples, train_iter):\n",
        "    X_real, y_real = generate_real_sample(train_it= train_iter)\n",
        "    X_fake, y_fake = generate_fake_sample(g_model= g_model,\n",
        "                                          latent_dim= latent_dim,\n",
        "                                          n_samples= n_samples)\n",
        "    print(f'Accuracy on real data: {d_model.evaluate(X_real, y_real, verbose= 0)}')\n",
        "    print(f'Accuracy on fake data: {d_model.evaluate(X_fake, y_fake, verbose= 0)}')\n",
        "    filename = f'model_e_{epoch+1:03}.h5'\n",
        "    save_plot(x_input= X_fake,\n",
        "              epoch= epoch)\n",
        "    checkpnt_path_g = 'drive/My Drive/CGAN/g_model.h5'\n",
        "    checkpnt_path_d = 'drive/My Drive/CGAN/d_model.h5'\n",
        "    g_model.save(filename)\n",
        "    g_model.save(checkpnt_path_g)\n",
        "    d_model.save(checkpnt_path_d)"
      ],
      "execution_count": 10,
      "outputs": []
    },
    {
      "cell_type": "markdown",
      "metadata": {
        "id": "kthsHFTkB0WM",
        "colab_type": "text"
      },
      "source": [
        "# Function for training the GAN"
      ]
    },
    {
      "cell_type": "code",
      "metadata": {
        "id": "omaXYPk9BD_n",
        "colab_type": "code",
        "colab": {}
      },
      "source": [
        "def train_GAN(gan_model, g_model, d_model, dataset_len, latent_dim, train_iter, iters= 100, batch_size= 256):\n",
        "    half_batch = int(batch_size / 2)\n",
        "    batch_per_epoch = int(dataset_len / batch_size)\n",
        "    for i in range(iters):\n",
        "        for j in range(5):\n",
        "            X_real, y_real = generate_real_sample(train_it= train_it)\n",
        "            X_fake, y_fake = generate_fake_sample(g_model= g_model,\n",
        "                                                  latent_dim= latent_dim,\n",
        "                                                  n_samples= half_batch)\n",
        "            X, y = np.vstack((X_real, X_fake)), np.vstack((y_real, y_fake))\n",
        "            dloss = d_model.train_on_batch(X, y)\n",
        "            x_gan = generate_latent_points(latent_dim= latent_dim,\n",
        "                                             n_samples= batch_size)\n",
        "            y_gan = np.ones((batch_size, 1))\n",
        "            gloss = gan_model.train_on_batch(x_gan, y_gan)\n",
        "            print(f'> Epoch: {i+1}, {j+1}/{batch_per_epoch}, dloss: {dloss[0]:5f}, gloss: {gloss:5f}')\n",
        "        # After each epoch\n",
        "        summarize_the_model(g_model= g_model,\n",
        "                            d_model= d_model,\n",
        "                            epoch= i,\n",
        "                            latent_dim= latent_dim,\n",
        "                            n_samples= batch_size, train_iter= train_it)"
      ],
      "execution_count": 11,
      "outputs": []
    },
    {
      "cell_type": "code",
      "metadata": {
        "id": "Ehrm8-8a9DD3",
        "colab_type": "code",
        "colab": {}
      },
      "source": [
        "def load_models(latent_dim, retrain= False):\n",
        "  if retrain:\n",
        "    g_model = keras.models.load_model('drive/My Drive/CGAN/g_model.h5')\n",
        "    d_model = keras.models.load_model('drive/My Drive/CGAN/d_model.h5')\n",
        "    \n",
        "    opt = keras.optimizers.adam(learning_rate= 0.0002, beta_1= 0.5)\n",
        "    d_model.compile(loss= 'binary_crossentropy', optimizer= opt, metrics= ['accuracy'])\n",
        "\n",
        "    gan_model = define_GAN(g_model=g_model,\n",
        "                          d_model= d_model)\n",
        "\n",
        "  else:\n",
        "    g_model = define_generator(latent_dim= latent_dim)\n",
        "    d_model = define_discriminator()\n",
        "    gan_model = define_GAN(g_model=g_model,\n",
        "                          d_model= d_model)\n",
        "  return g_model, d_model, gan_model"
      ],
      "execution_count": 18,
      "outputs": []
    },
    {
      "cell_type": "markdown",
      "metadata": {
        "id": "ISoTcPvkCevl",
        "colab_type": "text"
      },
      "source": [
        "## Training the Model"
      ]
    },
    {
      "cell_type": "code",
      "metadata": {
        "id": "bL1Z-D3VCh8p",
        "colab_type": "code",
        "colab": {
          "base_uri": "https://localhost:8080/",
          "height": 717
        },
        "outputId": "8a60eb55-21b8-48b9-a96e-a6797b6f65c9"
      },
      "source": [
        "latent_dim = 200\n",
        "batch_size = 128\n",
        "\n",
        "g_model, d_model, gan_model = load_models(latent_dim, True)\n",
        "\n",
        "datagen = keras.preprocessing.image.ImageDataGenerator()\n",
        "path = os.getcwd() + '/data_faces'\n",
        "train_it = datagen.flow_from_directory(path,\n",
        "                                       batch_size= int(batch_size/2),\n",
        "                                       target_size= (218, 178))\n",
        "\n",
        "\n",
        "train_GAN(gan_model= gan_model,\n",
        "          g_model= g_model,\n",
        "          d_model= d_model,\n",
        "          dataset_len= 202599,\n",
        "          latent_dim= latent_dim, train_iter= train_it)"
      ],
      "execution_count": null,
      "outputs": [
        {
          "output_type": "stream",
          "text": [
            "/usr/local/lib/python3.6/dist-packages/keras/engine/saving.py:341: UserWarning: No training configuration found in save file: the model was *not* compiled. Compile it manually.\n",
            "  warnings.warn('No training configuration found in save file: '\n"
          ],
          "name": "stderr"
        },
        {
          "output_type": "stream",
          "text": [
            "Found 202599 images belonging to 1 classes.\n"
          ],
          "name": "stdout"
        },
        {
          "output_type": "stream",
          "text": [
            "/usr/local/lib/python3.6/dist-packages/keras/engine/training.py:297: UserWarning: Discrepancy between trainable weights and collected trainable weights, did you set `model.trainable` without calling `model.compile` after ?\n",
            "  'Discrepancy between trainable weights and collected trainable'\n"
          ],
          "name": "stderr"
        },
        {
          "output_type": "stream",
          "text": [
            "> Epoch: 1, 1/791, dloss: 0.606556, gloss: 0.685625\n",
            "> Epoch: 1, 2/791, dloss: 0.700126, gloss: 0.651514\n",
            "> Epoch: 1, 3/791, dloss: 0.735376, gloss: 0.709210\n",
            "> Epoch: 1, 4/791, dloss: 0.609544, gloss: 0.952864\n",
            "> Epoch: 1, 5/791, dloss: 0.464002, gloss: 1.218255\n",
            "Accuracy on real data: [0.38578368723392487, 0.8125]\n",
            "Accuracy on fake data: [0.43484701961278915, 1.0]\n",
            "> Epoch: 2, 1/791, dloss: 0.491807, gloss: 1.109138\n",
            "> Epoch: 2, 2/791, dloss: 0.423564, gloss: 0.996545\n",
            "> Epoch: 2, 3/791, dloss: 0.411362, gloss: 0.962451\n",
            "> Epoch: 2, 4/791, dloss: 0.384854, gloss: 0.966954\n",
            "> Epoch: 2, 5/791, dloss: 0.376393, gloss: 0.989751\n",
            "Accuracy on real data: [0.07068948727101088, 0.984375]\n",
            "Accuracy on fake data: [0.49271493032574654, 1.0]\n",
            "> Epoch: 3, 1/791, dloss: 0.359993, gloss: 1.011517\n",
            "> Epoch: 3, 2/791, dloss: 0.326839, gloss: 1.049535\n",
            "> Epoch: 3, 3/791, dloss: 0.316552, gloss: 1.103641\n",
            "> Epoch: 3, 4/791, dloss: 0.293582, gloss: 1.167496\n",
            "> Epoch: 3, 5/791, dloss: 0.277861, gloss: 1.234916\n",
            "Accuracy on real data: [0.004161174176260829, 1.0]\n",
            "Accuracy on fake data: [0.40867695584893227, 1.0]\n",
            "> Epoch: 4, 1/791, dloss: 0.286114, gloss: 1.264074\n",
            "> Epoch: 4, 2/791, dloss: 0.359301, gloss: 1.173804\n",
            "> Epoch: 4, 3/791, dloss: 0.535904, gloss: 1.015560\n",
            "> Epoch: 4, 4/791, dloss: 0.615545, gloss: 1.314534\n",
            "> Epoch: 4, 5/791, dloss: 0.393843, gloss: 2.724057\n",
            "Accuracy on real data: [0.024559538811445236, 1.0]\n",
            "Accuracy on fake data: [0.20287306606769562, 1.0]\n",
            "> Epoch: 5, 1/791, dloss: 0.116345, gloss: 4.367724\n",
            "> Epoch: 5, 2/791, dloss: 0.157604, gloss: 3.150725\n",
            "> Epoch: 5, 3/791, dloss: 0.122126, gloss: 2.506468\n",
            "> Epoch: 5, 4/791, dloss: 0.118138, gloss: 2.460713\n",
            "> Epoch: 5, 5/791, dloss: 0.091505, gloss: 2.671526\n",
            "Accuracy on real data: [0.03902220353484154, 0.984375]\n",
            "Accuracy on fake data: [0.11056855693459511, 1.0]\n"
          ],
          "name": "stdout"
        }
      ]
    },
    {
      "cell_type": "code",
      "metadata": {
        "id": "1-74HlgPlUo-",
        "colab_type": "code",
        "colab": {}
      },
      "source": [
        "!nvidia-smi"
      ],
      "execution_count": null,
      "outputs": []
    },
    {
      "cell_type": "code",
      "metadata": {
        "id": "MIbOBJuR6W_d",
        "colab_type": "code",
        "colab": {}
      },
      "source": [
        "from google.colab import drive\n",
        "drive.mount('/content/drive')"
      ],
      "execution_count": null,
      "outputs": []
    },
    {
      "cell_type": "code",
      "metadata": {
        "id": "w-iVMPZ8ATfr",
        "colab_type": "code",
        "colab": {
          "base_uri": "https://localhost:8080/",
          "height": 68
        },
        "outputId": "7a95055e-1551-42f9-a4ab-c37070a12b92"
      },
      "source": [
        "half_batch = 64\n",
        "datagen = keras.preprocessing.image.ImageDataGenerator()\n",
        "path = os.getcwd() + '/data_faces'\n",
        "train_it = datagen.flow_from_directory(path,\n",
        "                                       batch_size= int(batch_size/2),\n",
        "                                       target_size= (218, 178))\n",
        "d_model = keras.models.load_model('drive/My Drive/CGAN/d_model.h5', compile= False)\n",
        "\n",
        "opt = keras.optimizers.adam(learning_rate= 0.0002, beta_1= 0.5)\n",
        "d_model.compile(loss= 'binary_crossentropy', optimizer= opt, metrics= ['accuracy'])\n",
        "\n",
        "g_model = keras.models.load_model('drive/My Drive/CGAN/g_model.h5')\n",
        "X_real, y_real = generate_real_sample(train_it= train_it)\n",
        "X_fake, y_fake = generate_fake_sample(g_model= g_model,\n",
        "                                      latent_dim= latent_dim,\n",
        "                                      n_samples= half_batch)\n",
        "X, y = np.vstack((X_real, X_fake)), np.vstack((y_real, y_fake))\n",
        "dloss = d_model.train_on_batch(X, y)"
      ],
      "execution_count": 16,
      "outputs": [
        {
          "output_type": "stream",
          "text": [
            "Found 202599 images belonging to 1 classes.\n"
          ],
          "name": "stdout"
        },
        {
          "output_type": "stream",
          "text": [
            "/usr/local/lib/python3.6/dist-packages/keras/engine/saving.py:341: UserWarning: No training configuration found in save file: the model was *not* compiled. Compile it manually.\n",
            "  warnings.warn('No training configuration found in save file: '\n"
          ],
          "name": "stderr"
        }
      ]
    },
    {
      "cell_type": "code",
      "metadata": {
        "id": "WJMo2rfBAZNZ",
        "colab_type": "code",
        "colab": {
          "base_uri": "https://localhost:8080/",
          "height": 34
        },
        "outputId": "12405685-4470-4c7c-e304-3af1bf47be38"
      },
      "source": [
        "dloss"
      ],
      "execution_count": 17,
      "outputs": [
        {
          "output_type": "execute_result",
          "data": {
            "text/plain": [
              "[0.45862672, 0.484375]"
            ]
          },
          "metadata": {
            "tags": []
          },
          "execution_count": 17
        }
      ]
    },
    {
      "cell_type": "code",
      "metadata": {
        "id": "I4zLcyeECAIy",
        "colab_type": "code",
        "colab": {}
      },
      "source": [
        ""
      ],
      "execution_count": null,
      "outputs": []
    }
  ]
}