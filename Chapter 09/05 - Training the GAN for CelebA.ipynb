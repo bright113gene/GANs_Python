{
  "nbformat": 4,
  "nbformat_minor": 0,
  "metadata": {
    "kernelspec": {
      "display_name": "Python 3",
      "language": "python",
      "name": "python3"
    },
    "language_info": {
      "codemirror_mode": {
        "name": "ipython",
        "version": 3
      },
      "file_extension": ".py",
      "mimetype": "text/x-python",
      "name": "python",
      "nbconvert_exporter": "python",
      "pygments_lexer": "ipython3",
      "version": "3.7.0"
    },
    "colab": {
      "name": "05 - Training the GAN for CelebA.ipynb",
      "provenance": [],
      "toc_visible": true
    }
  },
  "cells": [
    {
      "cell_type": "markdown",
      "metadata": {
        "id": "YQuAFD8HBiOm",
        "colab_type": "text"
      },
      "source": [
        "# Importing the libraries"
      ]
    },
    {
      "cell_type": "code",
      "metadata": {
        "id": "9qGawzGj_KWj",
        "colab_type": "code",
        "colab": {
          "base_uri": "https://localhost:8080/",
          "height": 34
        },
        "outputId": "1b7230ba-8c00-4978-f61c-b41b00130311"
      },
      "source": [
        "import keras\n",
        "import numpy as np\n",
        "import matplotlib.pyplot as plt"
      ],
      "execution_count": 1,
      "outputs": [
        {
          "output_type": "stream",
          "text": [
            "Using TensorFlow backend.\n"
          ],
          "name": "stderr"
        }
      ]
    },
    {
      "cell_type": "markdown",
      "metadata": {
        "id": "3T50N2FHBkqW",
        "colab_type": "text"
      },
      "source": [
        "## Defining the GAN"
      ]
    },
    {
      "cell_type": "code",
      "metadata": {
        "id": "yGaJfOYb_Nh_",
        "colab_type": "code",
        "colab": {}
      },
      "source": [
        "def define_GAN(g_model, d_model):\n",
        "    d_model.trainable = False\n",
        "    model = keras.models.Sequential()\n",
        "    model.add(g_model)\n",
        "    model.add(d_model)\n",
        "    opt = keras.optimizers.adam(learning_rate= 0.0002,\n",
        "                                beta_1= 0.5)\n",
        "    model.compile(loss= 'binary_crossentropy', optimizer= opt)\n",
        "    return model"
      ],
      "execution_count": 2,
      "outputs": []
    },
    {
      "cell_type": "markdown",
      "metadata": {
        "id": "RnzBD8mpBmtH",
        "colab_type": "text"
      },
      "source": [
        "## Defining the Discriminator"
      ]
    },
    {
      "cell_type": "code",
      "metadata": {
        "id": "rQyGjaNi_SkC",
        "colab_type": "code",
        "colab": {}
      },
      "source": [
        "def define_discriminator(input_shape= (160,160,3)):\n",
        "    model = keras.models.Sequential()\n",
        "    \n",
        "    model.add(keras.layers.Conv2D(filters= 128,\n",
        "                                  kernel_size= (3,3),\n",
        "                                  padding= 'same',\n",
        "                                  input_shape= input_shape))\n",
        "    model.add(keras.layers.LeakyReLU(0.2))\n",
        "    model.add(keras.layers.Dropout(0.4))\n",
        "\n",
        "    # 160 * 160 * 3\n",
        "    model.add(keras.layers.Conv2D(filters= 128,\n",
        "                                  kernel_size= (3,3),\n",
        "                                  strides= (2,2),\n",
        "                                  padding= 'same'))\n",
        "    model.add(keras.layers.LeakyReLU(0.2))\n",
        "    model.add(keras.layers.Dropout(0.4))\n",
        "\n",
        "    # 80 * 80 * 3\n",
        "    model.add(keras.layers.Conv2D(filters= 128,\n",
        "                                  kernel_size= (3,3),\n",
        "                                  strides= (2,2),\n",
        "                                  padding= 'same'))\n",
        "    model.add(keras.layers.LeakyReLU(0.2))\n",
        "    model.add(keras.layers.Dropout(0.4))\n",
        "    \n",
        "    # 40 * 40 * 3\n",
        "    model.add(keras.layers.Conv2D(filters= 256,\n",
        "                                  kernel_size= (4,4),\n",
        "                                  strides= (2,2),\n",
        "                                  padding= 'same'))\n",
        "    model.add(keras.layers.LeakyReLU(0.2))\n",
        "    model.add(keras.layers.Dropout(0.4))\n",
        "    \n",
        "    # 20 * 20 * 3\n",
        "    model.add(keras.layers.Conv2D(filters= 512,\n",
        "                                  kernel_size= (4,4),\n",
        "                                  strides= (2,2),\n",
        "                                  padding= 'same'))\n",
        "    model.add(keras.layers.LeakyReLU(0.2))\n",
        "    model.add(keras.layers.Dropout(0.4))\n",
        "    \n",
        "    # 10 * 10 * 3\n",
        "\n",
        "    model.add(keras.layers.Flatten())\n",
        "    model.add(keras.layers.Dropout(0.4))\n",
        "    model.add(keras.layers.Dense(units= 1,\n",
        "                                 activation= 'sigmoid'))\n",
        "    opt = keras.optimizers.adam(learning_rate= 0.0002, beta_1= 0.5)\n",
        "    model.compile(loss= 'binary_crossentropy', optimizer= opt, metrics= ['accuracy'])\n",
        "    \n",
        "    return model"
      ],
      "execution_count": 5,
      "outputs": []
    },
    {
      "cell_type": "markdown",
      "metadata": {
        "id": "5JEzmdqCBpPv",
        "colab_type": "text"
      },
      "source": [
        "## Defining the Generator"
      ]
    },
    {
      "cell_type": "code",
      "metadata": {
        "id": "Iqn-f6gj__KY",
        "colab_type": "code",
        "colab": {}
      },
      "source": [
        "def define_generator(latent_dim):\n",
        "    model = keras.models.Sequential()\n",
        "\n",
        "    model.add(keras.layers.Dense(units= 1024 * 10 * 10, input_dim= latent_dim))\n",
        "    model.add(keras.layers.LeakyReLU(0.2))\n",
        "    model.add(keras.layers.Reshape((10, 10, 1024)))\n",
        "    # 10 * 10\n",
        "    model.add(keras.layers.Conv2DTranspose(filters= 128,\n",
        "                                           kernel_size= (4,4),\n",
        "                                           padding= 'same',\n",
        "                                           strides= (2,2)))\n",
        "    model.add(keras.layers.LeakyReLU(0.2))\n",
        "    # 20 * 20\n",
        "    model.add(keras.layers.Conv2DTranspose(filters= 128,\n",
        "                                           kernel_size= (4,4),\n",
        "                                           padding= 'same',\n",
        "                                           strides= (2,2)))\n",
        "    model.add(keras.layers.LeakyReLU(0.2))\n",
        "    # 40 * 40\n",
        "    model.add(keras.layers.Conv2DTranspose(filters= 128,\n",
        "                                           kernel_size= (4,4),\n",
        "                                           padding= 'same',\n",
        "                                           strides= (2,2)))\n",
        "    model.add(keras.layers.LeakyReLU(0.2))\n",
        "    # 80 * 80\n",
        "    model.add(keras.layers.Conv2DTranspose(filters= 128,\n",
        "                                           kernel_size= (4,4),\n",
        "                                           padding= 'same',\n",
        "                                           strides= (2,2)))\n",
        "    model.add(keras.layers.LeakyReLU(0.2))\n",
        "    # 160 * 160\n",
        "    model.add(keras.layers.Conv2DTranspose(filters= 256,\n",
        "                                           kernel_size= (4,4),\n",
        "                                           padding= 'same',\n",
        "                                           strides= (2,2)))\n",
        "    model.add(keras.layers.LeakyReLU(0.2))\n",
        "    \n",
        "    # Ready for colorization\n",
        "    model.add(keras.layers.Conv2D(filters= 3,\n",
        "                                  kernel_size= (3,3),\n",
        "                                  padding= 'same',\n",
        "                                  activation= 'tanh'))\n",
        "    \n",
        "    return model"
      ],
      "execution_count": 9,
      "outputs": []
    },
    {
      "cell_type": "markdown",
      "metadata": {
        "id": "jxFzu7wfBrwX",
        "colab_type": "text"
      },
      "source": [
        "## Generating the Fake samples"
      ]
    },
    {
      "cell_type": "code",
      "metadata": {
        "id": "IYunoMGTBc9_",
        "colab_type": "code",
        "colab": {}
      },
      "source": [
        "def generate_latent_points(latent_dim, n_samples):\n",
        "    X = np.random.randn(latent_dim * n_samples)\n",
        "    X = X.reshape((n_samples, latent_dim))\n",
        "    return X"
      ],
      "execution_count": 14,
      "outputs": []
    },
    {
      "cell_type": "code",
      "metadata": {
        "id": "Xgx3HtRsBeDO",
        "colab_type": "code",
        "colab": {}
      },
      "source": [
        "def generate_fake_sample(g_model, latent_dim, n_samples):\n",
        "    x_input = generate_latent_points(latent_dim= latent_dim,\n",
        "                                     n_samples= n_samples)\n",
        "    \n",
        "    X = g_model.predict(x_input)\n",
        "    y = np.ones((n_samples, 1))\n",
        "    return X, y"
      ],
      "execution_count": 15,
      "outputs": []
    },
    {
      "cell_type": "markdown",
      "metadata": {
        "id": "xxSpoq-kCAM0",
        "colab_type": "text"
      },
      "source": [
        "## Generating the Real samples"
      ]
    },
    {
      "cell_type": "code",
      "metadata": {
        "id": "VViqdA06B_3d",
        "colab_type": "code",
        "colab": {}
      },
      "source": [
        "def generate_real_sample(train_it):\n",
        "    X, _ = train_it.next()\n",
        "    X = X.astype('float32')\n",
        "    #X = (X - 127.5) / 127.5\n",
        "    y = np.ones((X.shape[0], 1))\n",
        "    return X, y"
      ],
      "execution_count": 26,
      "outputs": []
    },
    {
      "cell_type": "markdown",
      "metadata": {
        "id": "pK3agqMxBx10",
        "colab_type": "text"
      },
      "source": [
        "## Saving the Plot and summarizing"
      ]
    },
    {
      "cell_type": "code",
      "metadata": {
        "id": "6-dxON9lAv2a",
        "colab_type": "code",
        "colab": {}
      },
      "source": [
        "def save_plot(x_input, epoch, n=7):\n",
        "    x_input = (x_input + 1.0) / 2.0\n",
        "    filename = f'generated_{epoch + 1}.png'\n",
        "    for i in range(n*n):\n",
        "        plt.subplot(n, n, i+1)\n",
        "        plt.imshow(x_input[i,:,:,:])\n",
        "        plt.axis('off')\n",
        "    plt.savefig(filename)\n",
        "    plt.close()"
      ],
      "execution_count": 11,
      "outputs": []
    },
    {
      "cell_type": "code",
      "metadata": {
        "id": "8SXygfc8BCt1",
        "colab_type": "code",
        "colab": {}
      },
      "source": [
        "def summarize_the_model(g_model, d_model, epoch, latent_dim, n_samples):\n",
        "    X_real, y_real = generate_real_sample(n_samples= n_samples)\n",
        "    X_fake, y_fake = generate_fake_sample(g_model= g_model,\n",
        "                                          latent_dim= latent_dim,\n",
        "                                          n_samples= n_samples)\n",
        "    print(f'Accuracy on real data: {d_model.evaluate(X_real, y_real, verbose= 0)}')\n",
        "    print(f'Accuracy on fake data: {d_model.evaluate(X_fake, y_fake, verbose= 0)}')\n",
        "    filename = f'model_e_{epoch + 1}.h5'\n",
        "    save_plot(x_input= X_fake,\n",
        "              epoch= epoch)\n",
        "    \n",
        "    g_model.save(filename)"
      ],
      "execution_count": 12,
      "outputs": []
    },
    {
      "cell_type": "markdown",
      "metadata": {
        "id": "kthsHFTkB0WM",
        "colab_type": "text"
      },
      "source": [
        "# Function for training the GAN"
      ]
    },
    {
      "cell_type": "code",
      "metadata": {
        "id": "omaXYPk9BD_n",
        "colab_type": "code",
        "colab": {}
      },
      "source": [
        "def train_GAN(gan_model, g_model, d_model, dataset_len, latent_dim, iters= 100, batch_size= 256):\n",
        "    half_batch = int(batch_size / 2)\n",
        "    batch_per_epoch = int(dataset_len / batch_size)\n",
        "    for i in range(iters):\n",
        "        for j in range(batch_per_epoch):\n",
        "            X_real, y_real = generate_real_sample(n_samples= half_batch)\n",
        "            X_fake, y_fake = generate_fake_sample(g_model= g_model,\n",
        "                                                  latent_dim= latent_dim,\n",
        "                                                  n_samples= half_batch)\n",
        "            X, y = np.vstack((X_real, X_fake)), np.vstack((y_real, y_fake))\n",
        "            dloss = d_model.train_on_batch(X, y)\n",
        "            \n",
        "            x_gan = generate_latent_points(latent_dim= latent_dim,\n",
        "                                             n_samples= batch_size)\n",
        "            y_gan = np.ones((batch_size, 1))\n",
        "            gloss = gan_model.train_on_batch(x_gan, y_gan)\n",
        "            print(f'Epoch: {i+1}, Batches/Epoch: {j+1}/{batch_per_epoch}, gloss: {gloss}, dloss: {dloss}')\n",
        "        # After each epoch\n",
        "        summarize_the_model(g_model= g_model,\n",
        "                            d_model= d_model,\n",
        "                            epoch= i,\n",
        "                            latent_dim= latent_dim,\n",
        "                            n_samples= batch_size)"
      ],
      "execution_count": 13,
      "outputs": []
    },
    {
      "cell_type": "markdown",
      "metadata": {
        "id": "ISoTcPvkCevl",
        "colab_type": "text"
      },
      "source": [
        "## Training the Model"
      ]
    },
    {
      "cell_type": "code",
      "metadata": {
        "id": "bL1Z-D3VCh8p",
        "colab_type": "code",
        "colab": {}
      },
      "source": [
        ""
      ],
      "execution_count": null,
      "outputs": []
    },
    {
      "cell_type": "markdown",
      "metadata": {
        "id": "P_yjX0AkCiuF",
        "colab_type": "text"
      },
      "source": [
        "## Loading the data"
      ]
    },
    {
      "cell_type": "code",
      "metadata": {
        "id": "JPauqzIwBXam",
        "colab_type": "code",
        "colab": {
          "base_uri": "https://localhost:8080/",
          "height": 204
        },
        "outputId": "831127ea-3b08-4035-9c81-8c5835e8d25e"
      },
      "source": [
        "!wget https://s3-us-west-1.amazonaws.com/udacity-dlnfd/datasets/celeba.zip\n",
        "import zipfile, os\n",
        "with zipfile.ZipFile(os.getcwd() + '/celeba.zip', 'r') as zip_ref:\n",
        "  zip_ref.extractall(os.getcwd()+'/data_faces')"
      ],
      "execution_count": 17,
      "outputs": [
        {
          "output_type": "stream",
          "text": [
            "--2020-06-21 08:42:07--  https://s3-us-west-1.amazonaws.com/udacity-dlnfd/datasets/celeba.zip\n",
            "Resolving s3-us-west-1.amazonaws.com (s3-us-west-1.amazonaws.com)... 52.219.116.184\n",
            "Connecting to s3-us-west-1.amazonaws.com (s3-us-west-1.amazonaws.com)|52.219.116.184|:443... connected.\n",
            "HTTP request sent, awaiting response... 200 OK\n",
            "Length: 1443490838 (1.3G) [application/zip]\n",
            "Saving to: ‘celeba.zip’\n",
            "\n",
            "celeba.zip          100%[===================>]   1.34G  21.4MB/s    in 66s     \n",
            "\n",
            "2020-06-21 08:43:14 (20.8 MB/s) - ‘celeba.zip’ saved [1443490838/1443490838]\n",
            "\n"
          ],
          "name": "stdout"
        }
      ]
    },
    {
      "cell_type": "code",
      "metadata": {
        "id": "BoyZn_8VCrlu",
        "colab_type": "code",
        "colab": {
          "base_uri": "https://localhost:8080/",
          "height": 34
        },
        "outputId": "200a20b7-ff31-4e24-c365-b47484bd955a"
      },
      "source": [
        "datagen = keras.preprocessing.image.ImageDataGenerator()\n",
        "path = os.getcwd() + '/data_faces'\n",
        "train_it = datagen.flow_from_directory(path,\n",
        "                                       batch_size= 4,\n",
        "                                       target_size= (218, 178))"
      ],
      "execution_count": 24,
      "outputs": [
        {
          "output_type": "stream",
          "text": [
            "Found 202599 images belonging to 1 classes.\n"
          ],
          "name": "stdout"
        }
      ]
    },
    {
      "cell_type": "code",
      "metadata": {
        "id": "yBFPSnhwDMCj",
        "colab_type": "code",
        "colab": {
          "base_uri": "https://localhost:8080/",
          "height": 34
        },
        "outputId": "452f7de8-01c3-4a59-f358-5ce51b5c05e3"
      },
      "source": [
        "X, y = generate_real_sample(train_it= train_it)\n",
        "X.shape, y.shape"
      ],
      "execution_count": 29,
      "outputs": [
        {
          "output_type": "execute_result",
          "data": {
            "text/plain": [
              "((4, 218, 178, 3), (4, 1))"
            ]
          },
          "metadata": {
            "tags": []
          },
          "execution_count": 29
        }
      ]
    },
    {
      "cell_type": "code",
      "metadata": {
        "id": "vJLAilm4Dheb",
        "colab_type": "code",
        "colab": {}
      },
      "source": [
        ""
      ],
      "execution_count": null,
      "outputs": []
    }
  ]
}