{
  "nbformat": 4,
  "nbformat_minor": 0,
  "metadata": {
    "colab": {
      "name": "01 - Prepairing the CelebA dataset.ipynb",
      "provenance": [],
      "collapsed_sections": []
    },
    "kernelspec": {
      "name": "python3",
      "display_name": "Python 3"
    },
    "accelerator": "GPU"
  },
  "cells": [
    {
      "cell_type": "code",
      "metadata": {
        "id": "2D4jSVPaeKUt",
        "colab_type": "code",
        "colab": {
          "base_uri": "https://localhost:8080/",
          "height": 204
        },
        "outputId": "5261cd78-c489-4e2e-da24-ccb98c866e34"
      },
      "source": [
        "!mkdir data_faces && wget https://s3-us-west-1.amazonaws.com/udacity-dlnfd/datasets/celeba.zip \n",
        "pip install mtcnn"
      ],
      "execution_count": 1,
      "outputs": [
        {
          "output_type": "stream",
          "text": [
            "--2020-06-17 13:30:21--  https://s3-us-west-1.amazonaws.com/udacity-dlnfd/datasets/celeba.zip\n",
            "Resolving s3-us-west-1.amazonaws.com (s3-us-west-1.amazonaws.com)... 52.219.120.208\n",
            "Connecting to s3-us-west-1.amazonaws.com (s3-us-west-1.amazonaws.com)|52.219.120.208|:443... connected.\n",
            "HTTP request sent, awaiting response... 200 OK\n",
            "Length: 1443490838 (1.3G) [application/zip]\n",
            "Saving to: ‘celeba.zip’\n",
            "\n",
            "celeba.zip          100%[===================>]   1.34G  20.9MB/s    in 69s     \n",
            "\n",
            "2020-06-17 13:31:31 (20.0 MB/s) - ‘celeba.zip’ saved [1443490838/1443490838]\n",
            "\n"
          ],
          "name": "stdout"
        }
      ]
    },
    {
      "cell_type": "code",
      "metadata": {
        "id": "H7dUSGlefa5K",
        "colab_type": "code",
        "colab": {}
      },
      "source": [
        "import zipfile\n",
        "\n",
        "with zipfile.ZipFile(os.getcwd() + '/celeba.zip', 'r') as zip_ref:\n",
        "    zip_ref.extractall(os.getcwd()+'/data_faces')"
      ],
      "execution_count": 8,
      "outputs": []
    },
    {
      "cell_type": "code",
      "metadata": {
        "id": "OT9SAPoAeNBm",
        "colab_type": "code",
        "colab": {
          "base_uri": "https://localhost:8080/",
          "height": 34
        },
        "outputId": "3fe38e91-db49-4cfc-d7c7-ea5041c52e64"
      },
      "source": [
        "# load and plot faces\n",
        "from os import listdir\n",
        "import os\n",
        "from numpy import asarray\n",
        "import numpy as np\n",
        "from PIL import Image\n",
        "from matplotlib import pyplot"
      ],
      "execution_count": 2,
      "outputs": [
        {
          "output_type": "stream",
          "text": [
            "Using TensorFlow backend.\n"
          ],
          "name": "stderr"
        }
      ]
    },
    {
      "cell_type": "code",
      "metadata": {
        "id": "DMw8JkjVeody",
        "colab_type": "code",
        "colab": {}
      },
      "source": [
        "def load_image(filename):\n",
        "  image = Image.open(filename)\n",
        "  image = image.convert('RGB')\n",
        "  pixels = asarray(image)\n",
        "  return pixels"
      ],
      "execution_count": 6,
      "outputs": []
    },
    {
      "cell_type": "code",
      "metadata": {
        "id": "Bg3HD02Ue2Or",
        "colab_type": "code",
        "colab": {}
      },
      "source": [
        "def load_faces(directory, n_faces):\n",
        "  faces = list()\n",
        "  for filename in listdir(directory):\n",
        "    pixels = load_image(directory + filename)\n",
        "    faces.append(pixels)\n",
        "    if len(faces) >= n_faces:\n",
        "      break\n",
        "  return asarray(faces)"
      ],
      "execution_count": 3,
      "outputs": []
    },
    {
      "cell_type": "code",
      "metadata": {
        "id": "u645bgx5e7Mc",
        "colab_type": "code",
        "colab": {}
      },
      "source": [
        "def plot_faces(faces, n):\n",
        "  for i in range(n * n):\n",
        "    pyplot.subplot(n, n, 1 + i)\n",
        "    pyplot.axis('off')\n",
        "    pyplot.imshow(faces[i])\n",
        "  pyplot.show()"
      ],
      "execution_count": 4,
      "outputs": []
    },
    {
      "cell_type": "code",
      "metadata": {
        "id": "mahErNM5fBSa",
        "colab_type": "code",
        "colab": {
          "base_uri": "https://localhost:8080/",
          "height": 34
        },
        "outputId": "7673381d-6491-428b-dda6-fad77c232e92"
      },
      "source": [
        "directory = os.getcwd() + '/data_faces/img_align_celeba/'\n",
        "faces = load_faces(directory, 50000)\n",
        "print('Loaded: ', faces.shape)"
      ],
      "execution_count": 7,
      "outputs": [
        {
          "output_type": "stream",
          "text": [
            "Loaded:  (50000, 218, 178, 3)\n"
          ],
          "name": "stdout"
        }
      ]
    },
    {
      "cell_type": "code",
      "metadata": {
        "id": "rwdeiSwdhBMu",
        "colab_type": "code",
        "colab": {}
      },
      "source": [
        "np.savez_compressed('faces.npz',faces)"
      ],
      "execution_count": 8,
      "outputs": []
    }
  ]
}