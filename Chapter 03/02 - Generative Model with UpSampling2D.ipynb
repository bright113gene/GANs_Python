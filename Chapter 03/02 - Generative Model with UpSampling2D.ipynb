{
 "cells": [
  {
   "cell_type": "markdown",
   "metadata": {},
   "source": [
    "# Importing the libraries"
   ]
  },
  {
   "cell_type": "code",
   "execution_count": 1,
   "metadata": {},
   "outputs": [
    {
     "name": "stderr",
     "output_type": "stream",
     "text": [
      "Using TensorFlow backend.\n"
     ]
    }
   ],
   "source": [
    "import keras\n",
    "import tensorboard"
   ]
  },
  {
   "cell_type": "markdown",
   "metadata": {},
   "source": [
    "## Defining the model"
   ]
  },
  {
   "cell_type": "code",
   "execution_count": 2,
   "metadata": {},
   "outputs": [
    {
     "name": "stdout",
     "output_type": "stream",
     "text": [
      "Model: \"Upsampling\"\n",
      "_________________________________________________________________\n",
      "Layer (type)                 Output Shape              Param #   \n",
      "=================================================================\n",
      "Dense01 (Dense)              (None, 3200)              323200    \n",
      "_________________________________________________________________\n",
      "Reshape01 (Reshape)          (None, 5, 5, 128)         0         \n",
      "_________________________________________________________________\n",
      "UpSampling01 (UpSampling2D)  (None, 10, 10, 128)       0         \n",
      "_________________________________________________________________\n",
      "Conv2D_01 (Conv2D)           (None, 10, 10, 1)         1153      \n",
      "=================================================================\n",
      "Total params: 324,353\n",
      "Trainable params: 324,353\n",
      "Non-trainable params: 0\n",
      "_________________________________________________________________\n"
     ]
    }
   ],
   "source": [
    "model = keras.models.Sequential(name= 'Upsampling')\n",
    "model.add(keras.layers.Dense(units = 128 * 5 * 5, \n",
    "                             input_dim= 100,\n",
    "                            name= 'Dense01'))\n",
    "model.add(keras.layers.Reshape((5, 5, 128), name= 'Reshape01'))\n",
    "model.add(keras.layers.UpSampling2D(name= 'UpSampling01'))\n",
    "model.add(keras.layers.Conv2D(filters= 1,\n",
    "                              kernel_size= (3,3),\n",
    "                              padding= 'same',\n",
    "                              name= 'Conv2D_01'))\n",
    "model.summary()"
   ]
  }
 ],
 "metadata": {
  "kernelspec": {
   "display_name": "Python 3",
   "language": "python",
   "name": "python3"
  },
  "language_info": {
   "codemirror_mode": {
    "name": "ipython",
    "version": 3
   },
   "file_extension": ".py",
   "mimetype": "text/x-python",
   "name": "python",
   "nbconvert_exporter": "python",
   "pygments_lexer": "ipython3",
   "version": "3.7.0"
  }
 },
 "nbformat": 4,
 "nbformat_minor": 4
}
