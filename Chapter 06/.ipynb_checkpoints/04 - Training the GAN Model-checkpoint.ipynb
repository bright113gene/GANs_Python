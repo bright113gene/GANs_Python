{
 "cells": [
  {
   "cell_type": "markdown",
   "metadata": {},
   "source": [
    "# Importing libraries"
   ]
  },
  {
   "cell_type": "code",
   "execution_count": 1,
   "metadata": {},
   "outputs": [
    {
     "name": "stderr",
     "output_type": "stream",
     "text": [
      "Using TensorFlow backend.\n"
     ]
    }
   ],
   "source": [
    "import numpy as np\n",
    "import keras\n",
    "import matplotlib.pyplot as plt"
   ]
  },
  {
   "cell_type": "markdown",
   "metadata": {},
   "source": [
    "# Generator and Discriminator Model Synthesis"
   ]
  },
  {
   "cell_type": "code",
   "execution_count": 2,
   "metadata": {},
   "outputs": [],
   "source": [
    "def define_discriminator(n_inputs= 2):\n",
    "    model = keras.models.Sequential()\n",
    "    model.add(keras.layers.Dense(units= 50,\n",
    "                                 activation= 'relu',\n",
    "                                 input_dim= n_inputs,\n",
    "                                 kernel_initializer= 'he_uniform'))\n",
    "    model.add(keras.layers.Dense(units= 1,\n",
    "                                 activation= 'sigmoid'))\n",
    "    model.compile(loss= 'binary_crossentropy',\n",
    "                  optimizer= 'adam',\n",
    "                  metrics= ['accuracy'])\n",
    "    \n",
    "    return model"
   ]
  },
  {
   "cell_type": "code",
   "execution_count": 3,
   "metadata": {},
   "outputs": [],
   "source": [
    "def define_generator(latent_dim, n_outputs= 2):\n",
    "    model = keras.models.Sequential()\n",
    "    model.add(keras.layers.Dense(units= 20,\n",
    "                                 input_dim= latent_dim,\n",
    "                                 activation= 'relu',\n",
    "                                 kernel_initializer= 'he_uniform'))\n",
    "    model.add(keras.layers.Dense(units= n_outputs,\n",
    "                                 activation= 'linear'))\n",
    "    \n",
    "    return model"
   ]
  },
  {
   "cell_type": "markdown",
   "metadata": {},
   "source": [
    "# GAN Model Synthesis"
   ]
  },
  {
   "cell_type": "code",
   "execution_count": 4,
   "metadata": {},
   "outputs": [],
   "source": [
    "def define_gan(generator, discriminator):\n",
    "    discriminator.trainable = False\n",
    "    model = keras.models.Sequential()\n",
    "    model.add(generator)\n",
    "    model.add(discriminator)\n",
    "    model.compile(loss= 'binary_crossentropy', optimizer= 'adam')\n",
    "    \n",
    "    return model"
   ]
  },
  {
   "cell_type": "markdown",
   "metadata": {},
   "source": [
    "# Sample Generation"
   ]
  },
  {
   "cell_type": "code",
   "execution_count": 5,
   "metadata": {},
   "outputs": [],
   "source": [
    "def generate_real_sample(n):\n",
    "    X1 = np.random.rand(n) - 0.5\n",
    "    X2 = X1 * X1\n",
    "    X1 = X1.reshape((n, 1))\n",
    "    X2 = X2.reshape((n, 1))\n",
    "    X = np.hstack((X1, X2))\n",
    "    y = np.ones((n, 1))\n",
    "    return X, y"
   ]
  },
  {
   "cell_type": "code",
   "execution_count": 6,
   "metadata": {},
   "outputs": [],
   "source": [
    "def generate_latent_points(latent_dim, n):\n",
    "    x_input = np.random.rand(latent_dim * n)\n",
    "    x_input = x_input.reshape((n, latent_dim))\n",
    "    return x_input"
   ]
  },
  {
   "cell_type": "code",
   "execution_count": 7,
   "metadata": {},
   "outputs": [],
   "source": [
    "def generate_fake_sample(generator, latent_dim, n):\n",
    "    x_input = generate_latent_points(latent_dim, n)\n",
    "    X = generator.predict(x_input)\n",
    "    y = np.zeros((n, 1))\n",
    "    return X, y"
   ]
  },
  {
   "cell_type": "markdown",
   "metadata": {},
   "source": [
    "# Performance Summarizing"
   ]
  },
  {
   "cell_type": "code",
   "execution_count": 8,
   "metadata": {},
   "outputs": [],
   "source": [
    "def summarize_performance(epoch, generator, discriminator, latent_dim, n = 100):\n",
    "    X_real, y_real = generate_real_sample(n)\n",
    "    X_fake, y_fake = generate_fake_sample(generator= generator,\n",
    "                                          latent_dim= latent_dim,\n",
    "                                          n = n)\n",
    "    _, acc_real = discriminator.evaluate(X_real, y_real, verbose= 0)\n",
    "    _, acc_fake = discriminator.evaluate(X_fake, y_fake, verbose= 0)\n",
    "    print(f'Epoch: {epoch + 1}, Acc_real: {acc_real}, Acc_fake: {acc_fake}')\n",
    "    plt.scatter(X_real[:,0], X_real[:,1], color= 'red')\n",
    "    plt.scatter(X_fake[:,0], X_fake[:,1], color= 'blue')\n",
    "    file_name= f'Eval_Epoch{epoch + 1}.png'\n",
    "    plt.savefig(file_name)\n",
    "    plt.close()"
   ]
  },
  {
   "cell_type": "markdown",
   "metadata": {},
   "source": [
    "# Function for training the model"
   ]
  },
  {
   "cell_type": "code",
   "execution_count": 9,
   "metadata": {},
   "outputs": [],
   "source": [
    "def train(g_model, d_model, GAN_model, latent_dim, n_batch= 256, epochs = 50000):\n",
    "    half_batch = int(n_batch / 2)\n",
    "    for i in range(epochs):\n",
    "        X_real, y_real = generate_real_sample(half_batch)\n",
    "        X_fake, y_fake = generate_fake_sample(generator= g_model,\n",
    "                                              latent_dim= latent_dim,\n",
    "                                              n= half_batch)\n",
    "        d_model.train_on_batch(X_real, y_real)\n",
    "        d_model.train_on_batch(X_fake, y_fake)\n",
    "        \n",
    "        X_gan = generate_latent_points(latent_dim, n_batch)\n",
    "        y_gan = np.ones((n_batch, 1))\n",
    "        GAN_model.train_on_batch(X_gan, y_gan)\n",
    "        \n",
    "        if (i+1)%5000 == 0:\n",
    "            summarize_performance(epoch= i,\n",
    "                                  generator= g_model,\n",
    "                                  discriminator= d_model,\n",
    "                                  latent_dim= latent_dim)"
   ]
  },
  {
   "cell_type": "markdown",
   "metadata": {},
   "source": [
    "# Training the Model"
   ]
  },
  {
   "cell_type": "code",
   "execution_count": 10,
   "metadata": {},
   "outputs": [
    {
     "name": "stderr",
     "output_type": "stream",
     "text": [
      "C:\\Users\\moham\\Anaconda3\\lib\\site-packages\\keras\\engine\\training.py:297: UserWarning: Discrepancy between trainable weights and collected trainable weights, did you set `model.trainable` without calling `model.compile` after ?\n",
      "  'Discrepancy between trainable weights and collected trainable'\n"
     ]
    },
    {
     "name": "stdout",
     "output_type": "stream",
     "text": [
      "Epoch: 5000, Acc_real: 0.47999998927116394, Acc_fake: 0.8100000023841858\n",
      "Epoch: 10000, Acc_real: 0.5199999809265137, Acc_fake: 0.6499999761581421\n",
      "Epoch: 15000, Acc_real: 0.6100000143051147, Acc_fake: 0.5899999737739563\n",
      "Epoch: 20000, Acc_real: 0.38999998569488525, Acc_fake: 0.7200000286102295\n",
      "Epoch: 25000, Acc_real: 0.6399999856948853, Acc_fake: 0.5600000023841858\n",
      "Epoch: 30000, Acc_real: 0.5799999833106995, Acc_fake: 0.7400000095367432\n",
      "Epoch: 35000, Acc_real: 0.5400000214576721, Acc_fake: 0.5099999904632568\n",
      "Epoch: 40000, Acc_real: 0.6899999976158142, Acc_fake: 0.6399999856948853\n",
      "Epoch: 45000, Acc_real: 0.5, Acc_fake: 0.6600000262260437\n",
      "Epoch: 50000, Acc_real: 0.41999998688697815, Acc_fake: 0.550000011920929\n"
     ]
    }
   ],
   "source": [
    "latent_dim = 5\n",
    "gen_model = define_generator(latent_dim= latent_dim)\n",
    "dis_model = define_discriminator()\n",
    "gan_model = define_gan(gen_model, dis_model)\n",
    "train(g_model= gen_model, d_model= dis_model, GAN_model= gan_model, latent_dim= latent_dim)"
   ]
  }
 ],
 "metadata": {
  "kernelspec": {
   "display_name": "Python 3",
   "language": "python",
   "name": "python3"
  },
  "language_info": {
   "codemirror_mode": {
    "name": "ipython",
    "version": 3
   },
   "file_extension": ".py",
   "mimetype": "text/x-python",
   "name": "python",
   "nbconvert_exporter": "python",
   "pygments_lexer": "ipython3",
   "version": "3.7.0"
  }
 },
 "nbformat": 4,
 "nbformat_minor": 4
}
