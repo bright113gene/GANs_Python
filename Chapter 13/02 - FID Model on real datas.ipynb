{
  "nbformat": 4,
  "nbformat_minor": 0,
  "metadata": {
    "kernelspec": {
      "display_name": "Python 3",
      "language": "python",
      "name": "python3"
    },
    "language_info": {
      "codemirror_mode": {
        "name": "ipython",
        "version": 3
      },
      "file_extension": ".py",
      "mimetype": "text/x-python",
      "name": "python",
      "nbconvert_exporter": "python",
      "pygments_lexer": "ipython3",
      "version": "3.7.0"
    },
    "colab": {
      "name": "02 - FID Model on real datas.ipynb",
      "provenance": []
    },
    "accelerator": "GPU"
  },
  "cells": [
    {
      "cell_type": "code",
      "metadata": {
        "id": "t3MKmT34dWA-",
        "colab_type": "code",
        "colab": {
          "base_uri": "https://localhost:8080/",
          "height": 34
        },
        "outputId": "75cd478c-06c2-4279-af07-7173b0a66c09"
      },
      "source": [
        "import numpy\n",
        "from numpy import cov\n",
        "from numpy import trace\n",
        "from numpy import iscomplexobj\n",
        "from numpy import asarray\n",
        "from numpy.random import shuffle\n",
        "from scipy.linalg import sqrtm\n",
        "from keras.applications.inception_v3 import InceptionV3\n",
        "from keras.applications.inception_v3 import preprocess_input\n",
        "from cv2 import resize\n",
        "from keras.datasets import cifar10"
      ],
      "execution_count": 1,
      "outputs": [
        {
          "output_type": "stream",
          "text": [
            "Using TensorFlow backend.\n"
          ],
          "name": "stderr"
        }
      ]
    },
    {
      "cell_type": "code",
      "metadata": {
        "id": "lB4n9ecPdWBH",
        "colab_type": "code",
        "colab": {}
      },
      "source": [
        "def scale_images(images, new_shape):\n",
        "    images_list = list()\n",
        "    for image in images:\n",
        "        new_image = resize(image, new_shape)\n",
        "        images_list.append(new_image)\n",
        "    return asarray(images_list)"
      ],
      "execution_count": 2,
      "outputs": []
    },
    {
      "cell_type": "code",
      "metadata": {
        "id": "D3adIWC5dWBL",
        "colab_type": "code",
        "colab": {}
      },
      "source": [
        "def calculate_fid(model, images1, images2):\n",
        "    act1 = model.predict(images1)\n",
        "    act2 = model.predict(images2)\n",
        "    \n",
        "    mu1, sigma1 = act1.mean(axis=0), cov(act1, rowvar=False)\n",
        "    mu2, sigma2 = act2.mean(axis=0), cov(act2, rowvar=False)\n",
        "    \n",
        "    ssdiff = numpy.sum((mu1 - mu2)**2.0)\n",
        "    covmean = sqrtm(sigma1.dot(sigma2))\n",
        "    \n",
        "    if iscomplexobj(covmean):\n",
        "        covmean = covmean.real\n",
        "    fid = ssdiff + trace(sigma1 + sigma2 - 2.0 * covmean)\n",
        "    \n",
        "    return fid"
      ],
      "execution_count": 3,
      "outputs": []
    },
    {
      "cell_type": "code",
      "metadata": {
        "id": "2HitMdZTdWBP",
        "colab_type": "code",
        "colab": {
          "base_uri": "https://localhost:8080/",
          "height": 68
        },
        "outputId": "34f74c6d-62bb-483d-fc7c-30d029c4f2f0"
      },
      "source": [
        "# prepare the inception v3 model\n",
        "model = InceptionV3(include_top=False, pooling='avg', input_shape=(299,299,3))\n",
        "# load cifar10 images\n",
        "(images1, _), (images2, _) = cifar10.load_data()\n",
        "shuffle(images1)\n",
        "shuffle(images2)\n",
        "images1 = images1[:3000]\n",
        "images2 = images2[:3000]\n",
        "print('Loaded', images1.shape, images2.shape)\n",
        "# convert integer to floating point values\n",
        "images1 = images1.astype('float32')\n",
        "images2 = images2.astype('float32')\n",
        "# resize images\n",
        "images1 = scale_images(images1, (299,299))\n",
        "images2 = scale_images(images2, (299,299))\n",
        "print('Scaled', images1.shape, images2.shape)\n",
        "# pre-process images\n",
        "images1 = preprocess_input(images1)\n",
        "images2 = preprocess_input(images2)\n",
        "\n",
        "fid = calculate_fid(model, images1, images2)\n",
        "print('FID: %.3f' % fid)"
      ],
      "execution_count": 4,
      "outputs": [
        {
          "output_type": "stream",
          "text": [
            "Loaded (3000, 32, 32, 3) (3000, 32, 32, 3)\n",
            "Scaled (3000, 299, 299, 3) (3000, 299, 299, 3)\n",
            "FID: 17.535\n"
          ],
          "name": "stdout"
        }
      ]
    }
  ]
}